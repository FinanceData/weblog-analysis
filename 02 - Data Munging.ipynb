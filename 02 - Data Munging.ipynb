{
 "metadata": {
  "celltoolbar": "Slideshow",
  "name": "",
  "signature": "sha256:d23232dc7f056f48698e8890a6ffb0f5e24739fea43b003651bbd5723a75f469"
 },
 "nbformat": 3,
 "nbformat_minor": 0,
 "worksheets": [
  {
   "cells": [
    {
     "cell_type": "markdown",
     "metadata": {
      "slideshow": {
       "slide_type": "slide"
      }
     },
     "source": [
      "# 02. Data Munging"
     ]
    },
    {
     "cell_type": "markdown",
     "metadata": {
      "slideshow": {
       "slide_type": "slide"
      }
     },
     "source": [
      "## \uc815\uaddc\uc2dd\uc744 \uc774\uc6a9\ud55c \ub85c\uadf8 \ud30c\uc2f1\n",
      "* \ub85c\uadf8\ub294 \ub2e4\uc591\ud55c \ud615\uc2dd\uc73c\ub85c \uc800\uc7a5 (\uac1c\ubcc4 \ub300\uc751\uc774 \ud544\uc694)\n",
      "* \uc815\uaddc\uc2dd(re \ubaa8\ub4c8): \ubb38\uc790\uc5f4 \uac80\uc0c9, \ub300\uce58, \ud30c\uc2f1\n",
      "* StringIO: \ubb38\uc790\uc5f4 \ubc84\ud37c\ub97c \ud30c\uc77c \uc785\ucd9c\ub825\uc73c\ub85c \ucc98\ub9ac"
     ]
    },
    {
     "cell_type": "code",
     "collapsed": false,
     "input": [
      "from StringIO import StringIO\n",
      "import re\n",
      "\n",
      "log_data = \"\"\"\n",
      "221.62.180.95 - - [07/Mar/2014:00:00:06 +0900] \"GET /intro/mts/Check.jsp HTTP/1.1\" 200 3293\n",
      "211.24.133.169 - - [07/Mar/2014:00:00:19 +0900] \"GET /intro/mts/Check.jsp HTTP/1.1\" 200 3293\n",
      "192.52.91.39 - - [07/Mar/2014:00:00:26 +0900] \"GET / HTTP/1.1\" 200 1964\n",
      "\"\"\"\n",
      "\n",
      "regex = '([(\\d\\.)]+) - - \\[([^\\[\\]:]+:\\d+:\\d+:\\d+) [+-](\\d+)\\] \"(.*?) (.*?) (.*?)\" (\\d+) (\\d+)'"
     ],
     "language": "python",
     "metadata": {
      "slideshow": {
       "slide_type": "subslide"
      }
     },
     "outputs": [],
     "prompt_number": 1
    },
    {
     "cell_type": "code",
     "collapsed": false,
     "input": [
      "f = StringIO(log_data)\n",
      "\n",
      "for line in f:\n",
      "    m = re.match(regex, line)\n",
      "    if not m is None:\n",
      "        print m.groups()"
     ],
     "language": "python",
     "metadata": {
      "slideshow": {
       "slide_type": "fragment"
      }
     },
     "outputs": [
      {
       "output_type": "stream",
       "stream": "stdout",
       "text": [
        "('221.62.180.95', '07/Mar/2014:00:00:06', '0900', 'GET', '/intro/mts/Check.jsp', 'HTTP/1.1', '200', '3293')\n",
        "('211.24.133.169', '07/Mar/2014:00:00:19', '0900', 'GET', '/intro/mts/Check.jsp', 'HTTP/1.1', '200', '3293')\n",
        "('192.52.91.39', '07/Mar/2014:00:00:26', '0900', 'GET', '/', 'HTTP/1.1', '200', '1964')\n"
       ]
      }
     ],
     "prompt_number": 2
    },
    {
     "cell_type": "markdown",
     "metadata": {
      "slideshow": {
       "slide_type": "slide"
      }
     },
     "source": [
      "## log\ub97c \uc77d\uc5b4 csv\ub85c \uc800\uc7a5\n",
      "* csv.writer(f)\n",
      "* writer.writerow(row)"
     ]
    },
    {
     "cell_type": "code",
     "collapsed": false,
     "input": [
      "import csv\n",
      "import re\n",
      "\n",
      "regex = re.compile('([(\\d\\.)]+) - - \\[([^\\[\\]:]+:\\d+:\\d+:\\d+) [+-](\\d+)\\] \"(.*?) (.*?) (.*?)\" (\\d+) (\\d+)\\n')\n",
      "\n",
      "cols= ['ip', 'time', 'tz', 'method', 'res', 'protocol', 'status', 'len']\n",
      "\n",
      "log_file = 'data/web_20140408.log'\n",
      "csv_file = 'data/web_20140408.csv'"
     ],
     "language": "python",
     "metadata": {
      "slideshow": {
       "slide_type": "subslide"
      }
     },
     "outputs": [],
     "prompt_number": 3
    },
    {
     "cell_type": "code",
     "collapsed": false,
     "input": [
      "f_log = open(log_file, 'rb')\n",
      "f_csv = open(csv_file, 'wb')\n",
      "\n",
      "writer = csv.writer(f_csv)\n",
      "writer.writerow(cols) # write header\n",
      "\n",
      "for line in f_log:\n",
      "    m = re.match(regex, line)\n",
      "    if not m is None:\n",
      "        writer.writerow(m.groups())\n",
      "      \n",
      "f_log.close()\n",
      "f_csv.close()"
     ],
     "language": "python",
     "metadata": {
      "slideshow": {
       "slide_type": "fragment"
      }
     },
     "outputs": [],
     "prompt_number": 4
    },
    {
     "cell_type": "markdown",
     "metadata": {
      "slideshow": {
       "slide_type": "slide"
      }
     },
     "source": [
      "## DataFrame \uc77d\uae30\n",
      "* pd.read_csv() : csv\ub97c \uc77d\uc5b4 DataFrame \uc0dd\uc131"
     ]
    },
    {
     "cell_type": "code",
     "collapsed": false,
     "input": [
      "import numpy as np\n",
      "import pandas as pd\n",
      "from pandas import DataFrame\n",
      "\n",
      "df = pd.read_csv(csv_file, dtype={'status': numpy.int64, 'len': numpy.int64} )"
     ],
     "language": "python",
     "metadata": {
      "slideshow": {
       "slide_type": "subslide"
      }
     },
     "outputs": [],
     "prompt_number": 5
    },
    {
     "cell_type": "code",
     "collapsed": false,
     "input": [
      "df.columns"
     ],
     "language": "python",
     "metadata": {
      "slideshow": {
       "slide_type": "fragment"
      }
     },
     "outputs": [
      {
       "metadata": {},
       "output_type": "pyout",
       "prompt_number": 6,
       "text": [
        "Index([u'ip', u'time', u'tz', u'method', u'res', u'protocol', u'status', u'len'], dtype='object')"
       ]
      }
     ],
     "prompt_number": 6
    },
    {
     "cell_type": "code",
     "collapsed": false,
     "input": [
      "len(df)"
     ],
     "language": "python",
     "metadata": {
      "slideshow": {
       "slide_type": "fragment"
      }
     },
     "outputs": [
      {
       "metadata": {},
       "output_type": "pyout",
       "prompt_number": 7,
       "text": [
        "364517"
       ]
      }
     ],
     "prompt_number": 7
    },
    {
     "cell_type": "code",
     "collapsed": false,
     "input": [
      "df.head()"
     ],
     "language": "python",
     "metadata": {
      "slideshow": {
       "slide_type": "fragment"
      }
     },
     "outputs": [
      {
       "html": [
        "<div style=\"max-height:1000px;max-width:1500px;overflow:auto;\">\n",
        "<table border=\"1\" class=\"dataframe\">\n",
        "  <thead>\n",
        "    <tr style=\"text-align: right;\">\n",
        "      <th></th>\n",
        "      <th>ip</th>\n",
        "      <th>time</th>\n",
        "      <th>tz</th>\n",
        "      <th>method</th>\n",
        "      <th>res</th>\n",
        "      <th>protocol</th>\n",
        "      <th>status</th>\n",
        "      <th>len</th>\n",
        "    </tr>\n",
        "  </thead>\n",
        "  <tbody>\n",
        "    <tr>\n",
        "      <th>0</th>\n",
        "      <td>    192.5.90.39</td>\n",
        "      <td> 08/Apr/2014:00:00:33</td>\n",
        "      <td> 900</td>\n",
        "      <td> GET</td>\n",
        "      <td>                                    /</td>\n",
        "      <td> HTTP/1.1</td>\n",
        "      <td> 200</td>\n",
        "      <td>  1964</td>\n",
        "    </tr>\n",
        "    <tr>\n",
        "      <th>1</th>\n",
        "      <td> 211.36.150.107</td>\n",
        "      <td> 08/Apr/2014:00:00:44</td>\n",
        "      <td> 900</td>\n",
        "      <td> GET</td>\n",
        "      <td>                 /trapi/mts/Check.jsp</td>\n",
        "      <td> HTTP/1.1</td>\n",
        "      <td> 200</td>\n",
        "      <td>  3419</td>\n",
        "    </tr>\n",
        "    <tr>\n",
        "      <th>2</th>\n",
        "      <td> 211.36.145.162</td>\n",
        "      <td> 08/Apr/2014:00:00:53</td>\n",
        "      <td> 900</td>\n",
        "      <td> GET</td>\n",
        "      <td>                 /trapi/mts/Check.jsp</td>\n",
        "      <td> HTTP/1.1</td>\n",
        "      <td> 200</td>\n",
        "      <td>  3419</td>\n",
        "    </tr>\n",
        "    <tr>\n",
        "      <th>3</th>\n",
        "      <td> 118.34.149.235</td>\n",
        "      <td> 08/Apr/2014:00:01:12</td>\n",
        "      <td> 900</td>\n",
        "      <td> GET</td>\n",
        "      <td> /common/popup/popup_hts_notice1.html</td>\n",
        "      <td> HTTP/1.1</td>\n",
        "      <td> 200</td>\n",
        "      <td>  2097</td>\n",
        "    </tr>\n",
        "    <tr>\n",
        "      <th>4</th>\n",
        "      <td> 118.34.149.235</td>\n",
        "      <td> 08/Apr/2014:00:01:13</td>\n",
        "      <td> 900</td>\n",
        "      <td> GET</td>\n",
        "      <td>      /img/popup/popup_140403_sms.jpg</td>\n",
        "      <td> HTTP/1.1</td>\n",
        "      <td> 200</td>\n",
        "      <td> 32709</td>\n",
        "    </tr>\n",
        "  </tbody>\n",
        "</table>\n",
        "<p>5 rows \u00d7 8 columns</p>\n",
        "</div>"
       ],
       "metadata": {},
       "output_type": "pyout",
       "prompt_number": 8,
       "text": [
        "               ip                  time   tz method  \\\n",
        "0     192.5.90.39  08/Apr/2014:00:00:33  900    GET   \n",
        "1  211.36.150.107  08/Apr/2014:00:00:44  900    GET   \n",
        "2  211.36.145.162  08/Apr/2014:00:00:53  900    GET   \n",
        "3  118.34.149.235  08/Apr/2014:00:01:12  900    GET   \n",
        "4  118.34.149.235  08/Apr/2014:00:01:13  900    GET   \n",
        "\n",
        "                                    res  protocol  status    len  \n",
        "0                                     /  HTTP/1.1     200   1964  \n",
        "1                  /trapi/mts/Check.jsp  HTTP/1.1     200   3419  \n",
        "2                  /trapi/mts/Check.jsp  HTTP/1.1     200   3419  \n",
        "3  /common/popup/popup_hts_notice1.html  HTTP/1.1     200   2097  \n",
        "4       /img/popup/popup_140403_sms.jpg  HTTP/1.1     200  32709  \n",
        "\n",
        "[5 rows x 8 columns]"
       ]
      }
     ],
     "prompt_number": 8
    },
    {
     "cell_type": "markdown",
     "metadata": {
      "slideshow": {
       "slide_type": "slide"
      }
     },
     "source": [
      "## \uceec\ub7fc \ub370\uc774\ud130 \ud3ec\ub9f7 \ubcc0\uacbd\n",
      "* pandas.to_datetime()\n",
      "* \ubb38\uc790\uc5f4\uc744 datetime \ud0c0\uc785\uc73c\ub85c \uc804\ud658"
     ]
    },
    {
     "cell_type": "code",
     "collapsed": false,
     "input": [
      "df['time'] = pd.to_datetime(df['time'], format=\"%d/%b/%Y:%H:%M:%S\")"
     ],
     "language": "python",
     "metadata": {
      "slideshow": {
       "slide_type": "subslide"
      }
     },
     "outputs": [],
     "prompt_number": 9
    },
    {
     "cell_type": "code",
     "collapsed": false,
     "input": [
      "df.head()"
     ],
     "language": "python",
     "metadata": {
      "slideshow": {
       "slide_type": "fragment"
      }
     },
     "outputs": [
      {
       "html": [
        "<div style=\"max-height:1000px;max-width:1500px;overflow:auto;\">\n",
        "<table border=\"1\" class=\"dataframe\">\n",
        "  <thead>\n",
        "    <tr style=\"text-align: right;\">\n",
        "      <th></th>\n",
        "      <th>ip</th>\n",
        "      <th>time</th>\n",
        "      <th>tz</th>\n",
        "      <th>method</th>\n",
        "      <th>res</th>\n",
        "      <th>protocol</th>\n",
        "      <th>status</th>\n",
        "      <th>len</th>\n",
        "    </tr>\n",
        "  </thead>\n",
        "  <tbody>\n",
        "    <tr>\n",
        "      <th>0</th>\n",
        "      <td>    192.5.90.39</td>\n",
        "      <td>2014-04-08 00:00:33</td>\n",
        "      <td> 900</td>\n",
        "      <td> GET</td>\n",
        "      <td>                                    /</td>\n",
        "      <td> HTTP/1.1</td>\n",
        "      <td> 200</td>\n",
        "      <td>  1964</td>\n",
        "    </tr>\n",
        "    <tr>\n",
        "      <th>1</th>\n",
        "      <td> 211.36.150.107</td>\n",
        "      <td>2014-04-08 00:00:44</td>\n",
        "      <td> 900</td>\n",
        "      <td> GET</td>\n",
        "      <td>                 /trapi/mts/Check.jsp</td>\n",
        "      <td> HTTP/1.1</td>\n",
        "      <td> 200</td>\n",
        "      <td>  3419</td>\n",
        "    </tr>\n",
        "    <tr>\n",
        "      <th>2</th>\n",
        "      <td> 211.36.145.162</td>\n",
        "      <td>2014-04-08 00:00:53</td>\n",
        "      <td> 900</td>\n",
        "      <td> GET</td>\n",
        "      <td>                 /trapi/mts/Check.jsp</td>\n",
        "      <td> HTTP/1.1</td>\n",
        "      <td> 200</td>\n",
        "      <td>  3419</td>\n",
        "    </tr>\n",
        "    <tr>\n",
        "      <th>3</th>\n",
        "      <td> 118.34.149.235</td>\n",
        "      <td>2014-04-08 00:01:12</td>\n",
        "      <td> 900</td>\n",
        "      <td> GET</td>\n",
        "      <td> /common/popup/popup_hts_notice1.html</td>\n",
        "      <td> HTTP/1.1</td>\n",
        "      <td> 200</td>\n",
        "      <td>  2097</td>\n",
        "    </tr>\n",
        "    <tr>\n",
        "      <th>4</th>\n",
        "      <td> 118.34.149.235</td>\n",
        "      <td>2014-04-08 00:01:13</td>\n",
        "      <td> 900</td>\n",
        "      <td> GET</td>\n",
        "      <td>      /img/popup/popup_140403_sms.jpg</td>\n",
        "      <td> HTTP/1.1</td>\n",
        "      <td> 200</td>\n",
        "      <td> 32709</td>\n",
        "    </tr>\n",
        "  </tbody>\n",
        "</table>\n",
        "<p>5 rows \u00d7 8 columns</p>\n",
        "</div>"
       ],
       "metadata": {},
       "output_type": "pyout",
       "prompt_number": 10,
       "text": [
        "               ip                time   tz method  \\\n",
        "0     192.5.90.39 2014-04-08 00:00:33  900    GET   \n",
        "1  211.36.150.107 2014-04-08 00:00:44  900    GET   \n",
        "2  211.36.145.162 2014-04-08 00:00:53  900    GET   \n",
        "3  118.34.149.235 2014-04-08 00:01:12  900    GET   \n",
        "4  118.34.149.235 2014-04-08 00:01:13  900    GET   \n",
        "\n",
        "                                    res  protocol  status    len  \n",
        "0                                     /  HTTP/1.1     200   1964  \n",
        "1                  /trapi/mts/Check.jsp  HTTP/1.1     200   3419  \n",
        "2                  /trapi/mts/Check.jsp  HTTP/1.1     200   3419  \n",
        "3  /common/popup/popup_hts_notice1.html  HTTP/1.1     200   2097  \n",
        "4       /img/popup/popup_140403_sms.jpg  HTTP/1.1     200  32709  \n",
        "\n",
        "[5 rows x 8 columns]"
       ]
      }
     ],
     "prompt_number": 10
    },
    {
     "cell_type": "markdown",
     "metadata": {
      "slideshow": {
       "slide_type": "slide"
      }
     },
     "source": [
      "## \uceec\ub7fc \ucd94\ucd9c, \uc778\ub371\uc2a4 \uc9c0\uc815\n",
      "* pop(): time \uceec\ub7fc\uc744 \ucd94\ucd9c\n",
      "* index\ub85c \uc9c0\uc815"
     ]
    },
    {
     "cell_type": "code",
     "collapsed": false,
     "input": [
      "df.index = df.pop('time')"
     ],
     "language": "python",
     "metadata": {
      "slideshow": {
       "slide_type": "subslide"
      }
     },
     "outputs": [],
     "prompt_number": 11
    },
    {
     "cell_type": "code",
     "collapsed": false,
     "input": [
      "df.head()"
     ],
     "language": "python",
     "metadata": {
      "slideshow": {
       "slide_type": "fragment"
      }
     },
     "outputs": [
      {
       "html": [
        "<div style=\"max-height:1000px;max-width:1500px;overflow:auto;\">\n",
        "<table border=\"1\" class=\"dataframe\">\n",
        "  <thead>\n",
        "    <tr style=\"text-align: right;\">\n",
        "      <th></th>\n",
        "      <th>ip</th>\n",
        "      <th>tz</th>\n",
        "      <th>method</th>\n",
        "      <th>res</th>\n",
        "      <th>protocol</th>\n",
        "      <th>status</th>\n",
        "      <th>len</th>\n",
        "    </tr>\n",
        "    <tr>\n",
        "      <th>time</th>\n",
        "      <th></th>\n",
        "      <th></th>\n",
        "      <th></th>\n",
        "      <th></th>\n",
        "      <th></th>\n",
        "      <th></th>\n",
        "      <th></th>\n",
        "    </tr>\n",
        "  </thead>\n",
        "  <tbody>\n",
        "    <tr>\n",
        "      <th>2014-04-08 00:00:33</th>\n",
        "      <td>    192.5.90.39</td>\n",
        "      <td> 900</td>\n",
        "      <td> GET</td>\n",
        "      <td>                                    /</td>\n",
        "      <td> HTTP/1.1</td>\n",
        "      <td> 200</td>\n",
        "      <td>  1964</td>\n",
        "    </tr>\n",
        "    <tr>\n",
        "      <th>2014-04-08 00:00:44</th>\n",
        "      <td> 211.36.150.107</td>\n",
        "      <td> 900</td>\n",
        "      <td> GET</td>\n",
        "      <td>                 /trapi/mts/Check.jsp</td>\n",
        "      <td> HTTP/1.1</td>\n",
        "      <td> 200</td>\n",
        "      <td>  3419</td>\n",
        "    </tr>\n",
        "    <tr>\n",
        "      <th>2014-04-08 00:00:53</th>\n",
        "      <td> 211.36.145.162</td>\n",
        "      <td> 900</td>\n",
        "      <td> GET</td>\n",
        "      <td>                 /trapi/mts/Check.jsp</td>\n",
        "      <td> HTTP/1.1</td>\n",
        "      <td> 200</td>\n",
        "      <td>  3419</td>\n",
        "    </tr>\n",
        "    <tr>\n",
        "      <th>2014-04-08 00:01:12</th>\n",
        "      <td> 118.34.149.235</td>\n",
        "      <td> 900</td>\n",
        "      <td> GET</td>\n",
        "      <td> /common/popup/popup_hts_notice1.html</td>\n",
        "      <td> HTTP/1.1</td>\n",
        "      <td> 200</td>\n",
        "      <td>  2097</td>\n",
        "    </tr>\n",
        "    <tr>\n",
        "      <th>2014-04-08 00:01:13</th>\n",
        "      <td> 118.34.149.235</td>\n",
        "      <td> 900</td>\n",
        "      <td> GET</td>\n",
        "      <td>      /img/popup/popup_140403_sms.jpg</td>\n",
        "      <td> HTTP/1.1</td>\n",
        "      <td> 200</td>\n",
        "      <td> 32709</td>\n",
        "    </tr>\n",
        "  </tbody>\n",
        "</table>\n",
        "<p>5 rows \u00d7 7 columns</p>\n",
        "</div>"
       ],
       "metadata": {},
       "output_type": "pyout",
       "prompt_number": 12,
       "text": [
        "                                 ip   tz method  \\\n",
        "time                                              \n",
        "2014-04-08 00:00:33     192.5.90.39  900    GET   \n",
        "2014-04-08 00:00:44  211.36.150.107  900    GET   \n",
        "2014-04-08 00:00:53  211.36.145.162  900    GET   \n",
        "2014-04-08 00:01:12  118.34.149.235  900    GET   \n",
        "2014-04-08 00:01:13  118.34.149.235  900    GET   \n",
        "\n",
        "                                                      res  protocol  status  \\\n",
        "time                                                                          \n",
        "2014-04-08 00:00:33                                     /  HTTP/1.1     200   \n",
        "2014-04-08 00:00:44                  /trapi/mts/Check.jsp  HTTP/1.1     200   \n",
        "2014-04-08 00:00:53                  /trapi/mts/Check.jsp  HTTP/1.1     200   \n",
        "2014-04-08 00:01:12  /common/popup/popup_hts_notice1.html  HTTP/1.1     200   \n",
        "2014-04-08 00:01:13       /img/popup/popup_140403_sms.jpg  HTTP/1.1     200   \n",
        "\n",
        "                       len  \n",
        "time                        \n",
        "2014-04-08 00:00:33   1964  \n",
        "2014-04-08 00:00:44   3419  \n",
        "2014-04-08 00:00:53   3419  \n",
        "2014-04-08 00:01:12   2097  \n",
        "2014-04-08 00:01:13  32709  \n",
        "\n",
        "[5 rows x 7 columns]"
       ]
      }
     ],
     "prompt_number": 12
    },
    {
     "cell_type": "markdown",
     "metadata": {
      "slideshow": {
       "slide_type": "slide"
      }
     },
     "source": [
      "## Pickle \ud3ec\ub9f7\uc73c\ub85c \uc800\uc7a5"
     ]
    },
    {
     "cell_type": "code",
     "collapsed": false,
     "input": [
      "df.to_pickle('data/web_20140408.pkl')"
     ],
     "language": "python",
     "metadata": {
      "slideshow": {
       "slide_type": "subslide"
      }
     },
     "outputs": [],
     "prompt_number": 13
    },
    {
     "cell_type": "code",
     "collapsed": false,
     "input": [
      "df = pd.read_pickle('data/web_20140408.pkl')"
     ],
     "language": "python",
     "metadata": {
      "slideshow": {
       "slide_type": "fragment"
      }
     },
     "outputs": [],
     "prompt_number": 14
    },
    {
     "cell_type": "code",
     "collapsed": false,
     "input": [
      "df.head()"
     ],
     "language": "python",
     "metadata": {
      "slideshow": {
       "slide_type": "fragment"
      }
     },
     "outputs": [
      {
       "html": [
        "<div style=\"max-height:1000px;max-width:1500px;overflow:auto;\">\n",
        "<table border=\"1\" class=\"dataframe\">\n",
        "  <thead>\n",
        "    <tr style=\"text-align: right;\">\n",
        "      <th></th>\n",
        "      <th>ip</th>\n",
        "      <th>tz</th>\n",
        "      <th>method</th>\n",
        "      <th>res</th>\n",
        "      <th>protocol</th>\n",
        "      <th>status</th>\n",
        "      <th>len</th>\n",
        "    </tr>\n",
        "    <tr>\n",
        "      <th>time</th>\n",
        "      <th></th>\n",
        "      <th></th>\n",
        "      <th></th>\n",
        "      <th></th>\n",
        "      <th></th>\n",
        "      <th></th>\n",
        "      <th></th>\n",
        "    </tr>\n",
        "  </thead>\n",
        "  <tbody>\n",
        "    <tr>\n",
        "      <th>2014-04-08 00:00:33</th>\n",
        "      <td>    192.5.90.39</td>\n",
        "      <td> 900</td>\n",
        "      <td> GET</td>\n",
        "      <td>                                    /</td>\n",
        "      <td> HTTP/1.1</td>\n",
        "      <td> 200</td>\n",
        "      <td>  1964</td>\n",
        "    </tr>\n",
        "    <tr>\n",
        "      <th>2014-04-08 00:00:44</th>\n",
        "      <td> 211.36.150.107</td>\n",
        "      <td> 900</td>\n",
        "      <td> GET</td>\n",
        "      <td>                 /trapi/mts/Check.jsp</td>\n",
        "      <td> HTTP/1.1</td>\n",
        "      <td> 200</td>\n",
        "      <td>  3419</td>\n",
        "    </tr>\n",
        "    <tr>\n",
        "      <th>2014-04-08 00:00:53</th>\n",
        "      <td> 211.36.145.162</td>\n",
        "      <td> 900</td>\n",
        "      <td> GET</td>\n",
        "      <td>                 /trapi/mts/Check.jsp</td>\n",
        "      <td> HTTP/1.1</td>\n",
        "      <td> 200</td>\n",
        "      <td>  3419</td>\n",
        "    </tr>\n",
        "    <tr>\n",
        "      <th>2014-04-08 00:01:12</th>\n",
        "      <td> 118.34.149.235</td>\n",
        "      <td> 900</td>\n",
        "      <td> GET</td>\n",
        "      <td> /common/popup/popup_hts_notice1.html</td>\n",
        "      <td> HTTP/1.1</td>\n",
        "      <td> 200</td>\n",
        "      <td>  2097</td>\n",
        "    </tr>\n",
        "    <tr>\n",
        "      <th>2014-04-08 00:01:13</th>\n",
        "      <td> 118.34.149.235</td>\n",
        "      <td> 900</td>\n",
        "      <td> GET</td>\n",
        "      <td>      /img/popup/popup_140403_sms.jpg</td>\n",
        "      <td> HTTP/1.1</td>\n",
        "      <td> 200</td>\n",
        "      <td> 32709</td>\n",
        "    </tr>\n",
        "  </tbody>\n",
        "</table>\n",
        "<p>5 rows \u00d7 7 columns</p>\n",
        "</div>"
       ],
       "metadata": {},
       "output_type": "pyout",
       "prompt_number": 15,
       "text": [
        "                                 ip   tz method  \\\n",
        "time                                              \n",
        "2014-04-08 00:00:33     192.5.90.39  900    GET   \n",
        "2014-04-08 00:00:44  211.36.150.107  900    GET   \n",
        "2014-04-08 00:00:53  211.36.145.162  900    GET   \n",
        "2014-04-08 00:01:12  118.34.149.235  900    GET   \n",
        "2014-04-08 00:01:13  118.34.149.235  900    GET   \n",
        "\n",
        "                                                      res  protocol  status  \\\n",
        "time                                                                          \n",
        "2014-04-08 00:00:33                                     /  HTTP/1.1     200   \n",
        "2014-04-08 00:00:44                  /trapi/mts/Check.jsp  HTTP/1.1     200   \n",
        "2014-04-08 00:00:53                  /trapi/mts/Check.jsp  HTTP/1.1     200   \n",
        "2014-04-08 00:01:12  /common/popup/popup_hts_notice1.html  HTTP/1.1     200   \n",
        "2014-04-08 00:01:13       /img/popup/popup_140403_sms.jpg  HTTP/1.1     200   \n",
        "\n",
        "                       len  \n",
        "time                        \n",
        "2014-04-08 00:00:33   1964  \n",
        "2014-04-08 00:00:44   3419  \n",
        "2014-04-08 00:00:53   3419  \n",
        "2014-04-08 00:01:12   2097  \n",
        "2014-04-08 00:01:13  32709  \n",
        "\n",
        "[5 rows x 7 columns]"
       ]
      }
     ],
     "prompt_number": 15
    }
   ],
   "metadata": {}
  }
 ]
}