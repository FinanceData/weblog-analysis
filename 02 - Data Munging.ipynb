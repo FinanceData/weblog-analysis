{
 "cells": [
  {
   "cell_type": "markdown",
   "metadata": {
    "slideshow": {
     "slide_type": "slide"
    }
   },
   "source": [
    "# 02. Data Munging"
   ]
  },
  {
   "cell_type": "markdown",
   "metadata": {
    "slideshow": {
     "slide_type": "slide"
    }
   },
   "source": [
    "## 정규식을 이용한 로그 파싱\n",
    "* 로그는 다양한 형식으로 저장 (개별 대응이 필요)\n",
    "* 정규식(re 모듈): 문자열 검색, 대치, 파싱\n",
    "* StringIO: 문자열 버퍼를 파일 입출력으로 처리"
   ]
  },
  {
   "cell_type": "code",
   "execution_count": 1,
   "metadata": {
    "collapsed": false,
    "slideshow": {
     "slide_type": "subslide"
    }
   },
   "outputs": [],
   "source": [
    "from StringIO import StringIO\n",
    "import re\n",
    "\n",
    "log_data = \"\"\"\n",
    "221.62.180.95 - - [07/Mar/2014:00:00:06 +0900] \"GET /intro/mts/Check.jsp HTTP/1.1\" 200 3293\n",
    "211.24.133.169 - - [07/Mar/2014:00:00:19 +0900] \"GET /intro/mts/Check.jsp HTTP/1.1\" 200 3293\n",
    "192.52.91.39 - - [07/Mar/2014:00:00:26 +0900] \"GET / HTTP/1.1\" 200 1964\n",
    "\"\"\"\n",
    "\n",
    "regex = '([(\\d\\.)]+) - - \\[([^\\[\\]:]+:\\d+:\\d+:\\d+) [+-](\\d+)\\] \"(.*?) (.*?) (.*?)\" (\\d+) (\\d+)'"
   ]
  },
  {
   "cell_type": "code",
   "execution_count": 2,
   "metadata": {
    "collapsed": false,
    "slideshow": {
     "slide_type": "fragment"
    }
   },
   "outputs": [
    {
     "name": "stdout",
     "output_type": "stream",
     "text": [
      "('221.62.180.95', '07/Mar/2014:00:00:06', '0900', 'GET', '/intro/mts/Check.jsp', 'HTTP/1.1', '200', '3293')\n",
      "('211.24.133.169', '07/Mar/2014:00:00:19', '0900', 'GET', '/intro/mts/Check.jsp', 'HTTP/1.1', '200', '3293')\n",
      "('192.52.91.39', '07/Mar/2014:00:00:26', '0900', 'GET', '/', 'HTTP/1.1', '200', '1964')\n"
     ]
    }
   ],
   "source": [
    "f = StringIO(log_data)\n",
    "\n",
    "for line in f:\n",
    "    m = re.match(regex, line)\n",
    "    if not m is None:\n",
    "        print m.groups()"
   ]
  },
  {
   "cell_type": "markdown",
   "metadata": {
    "slideshow": {
     "slide_type": "slide"
    }
   },
   "source": [
    "## log를 읽어 csv로 저장\n",
    "* csv.writer(f)\n",
    "* writer.writerow(row)"
   ]
  },
  {
   "cell_type": "code",
   "execution_count": 3,
   "metadata": {
    "collapsed": false,
    "slideshow": {
     "slide_type": "subslide"
    }
   },
   "outputs": [],
   "source": [
    "import csv\n",
    "import re\n",
    "\n",
    "regex = re.compile('([(\\d\\.)]+) - - \\[([^\\[\\]:]+:\\d+:\\d+:\\d+) [+-](\\d+)\\] \"(.*?) (.*?) (.*?)\" (\\d+) (\\d+)\\n')\n",
    "\n",
    "cols= ['ip', 'time', 'tz', 'method', 'res', 'protocol', 'status', 'len']\n",
    "\n",
    "log_file = 'data/web_20140408.log'\n",
    "csv_file = 'data/web_20140408.csv'"
   ]
  },
  {
   "cell_type": "code",
   "execution_count": 4,
   "metadata": {
    "collapsed": false,
    "slideshow": {
     "slide_type": "fragment"
    }
   },
   "outputs": [],
   "source": [
    "f_log = open(log_file, 'rb')\n",
    "f_csv = open(csv_file, 'wb')\n",
    "\n",
    "writer = csv.writer(f_csv)\n",
    "writer.writerow(cols) # write header\n",
    "\n",
    "for line in f_log:\n",
    "    m = re.match(regex, line)\n",
    "    if not m is None:\n",
    "        writer.writerow(m.groups())\n",
    "      \n",
    "f_log.close()\n",
    "f_csv.close()"
   ]
  },
  {
   "cell_type": "markdown",
   "metadata": {
    "slideshow": {
     "slide_type": "slide"
    }
   },
   "source": [
    "## DataFrame 읽기\n",
    "* pd.read_csv() : csv를 읽어 DataFrame 생성"
   ]
  },
  {
   "cell_type": "code",
   "execution_count": 5,
   "metadata": {
    "collapsed": false,
    "slideshow": {
     "slide_type": "subslide"
    }
   },
   "outputs": [],
   "source": [
    "import numpy as np\n",
    "import pandas as pd\n",
    "from pandas import DataFrame\n",
    "\n",
    "df = pd.read_csv(csv_file, dtype={'status': numpy.int64, 'len': numpy.int64} )"
   ]
  },
  {
   "cell_type": "code",
   "execution_count": 6,
   "metadata": {
    "collapsed": false,
    "slideshow": {
     "slide_type": "fragment"
    }
   },
   "outputs": [
    {
     "data": {
      "text/plain": [
       "Index([u'ip', u'time', u'tz', u'method', u'res', u'protocol', u'status', u'len'], dtype='object')"
      ]
     },
     "execution_count": 6,
     "metadata": {},
     "output_type": "execute_result"
    }
   ],
   "source": [
    "df.columns"
   ]
  },
  {
   "cell_type": "code",
   "execution_count": 7,
   "metadata": {
    "collapsed": false,
    "slideshow": {
     "slide_type": "fragment"
    }
   },
   "outputs": [
    {
     "data": {
      "text/plain": [
       "364517"
      ]
     },
     "execution_count": 7,
     "metadata": {},
     "output_type": "execute_result"
    }
   ],
   "source": [
    "len(df)"
   ]
  },
  {
   "cell_type": "code",
   "execution_count": 8,
   "metadata": {
    "collapsed": false,
    "slideshow": {
     "slide_type": "fragment"
    }
   },
   "outputs": [
    {
     "data": {
      "text/html": [
       "<div style=\"max-height:1000px;max-width:1500px;overflow:auto;\">\n",
       "<table border=\"1\" class=\"dataframe\">\n",
       "  <thead>\n",
       "    <tr style=\"text-align: right;\">\n",
       "      <th></th>\n",
       "      <th>ip</th>\n",
       "      <th>time</th>\n",
       "      <th>tz</th>\n",
       "      <th>method</th>\n",
       "      <th>res</th>\n",
       "      <th>protocol</th>\n",
       "      <th>status</th>\n",
       "      <th>len</th>\n",
       "    </tr>\n",
       "  </thead>\n",
       "  <tbody>\n",
       "    <tr>\n",
       "      <th>0</th>\n",
       "      <td>    192.5.90.39</td>\n",
       "      <td> 08/Apr/2014:00:00:33</td>\n",
       "      <td> 900</td>\n",
       "      <td> GET</td>\n",
       "      <td>                                    /</td>\n",
       "      <td> HTTP/1.1</td>\n",
       "      <td> 200</td>\n",
       "      <td>  1964</td>\n",
       "    </tr>\n",
       "    <tr>\n",
       "      <th>1</th>\n",
       "      <td> 211.36.150.107</td>\n",
       "      <td> 08/Apr/2014:00:00:44</td>\n",
       "      <td> 900</td>\n",
       "      <td> GET</td>\n",
       "      <td>                 /trapi/mts/Check.jsp</td>\n",
       "      <td> HTTP/1.1</td>\n",
       "      <td> 200</td>\n",
       "      <td>  3419</td>\n",
       "    </tr>\n",
       "    <tr>\n",
       "      <th>2</th>\n",
       "      <td> 211.36.145.162</td>\n",
       "      <td> 08/Apr/2014:00:00:53</td>\n",
       "      <td> 900</td>\n",
       "      <td> GET</td>\n",
       "      <td>                 /trapi/mts/Check.jsp</td>\n",
       "      <td> HTTP/1.1</td>\n",
       "      <td> 200</td>\n",
       "      <td>  3419</td>\n",
       "    </tr>\n",
       "    <tr>\n",
       "      <th>3</th>\n",
       "      <td> 118.34.149.235</td>\n",
       "      <td> 08/Apr/2014:00:01:12</td>\n",
       "      <td> 900</td>\n",
       "      <td> GET</td>\n",
       "      <td> /common/popup/popup_hts_notice1.html</td>\n",
       "      <td> HTTP/1.1</td>\n",
       "      <td> 200</td>\n",
       "      <td>  2097</td>\n",
       "    </tr>\n",
       "    <tr>\n",
       "      <th>4</th>\n",
       "      <td> 118.34.149.235</td>\n",
       "      <td> 08/Apr/2014:00:01:13</td>\n",
       "      <td> 900</td>\n",
       "      <td> GET</td>\n",
       "      <td>      /img/popup/popup_140403_sms.jpg</td>\n",
       "      <td> HTTP/1.1</td>\n",
       "      <td> 200</td>\n",
       "      <td> 32709</td>\n",
       "    </tr>\n",
       "  </tbody>\n",
       "</table>\n",
       "<p>5 rows × 8 columns</p>\n",
       "</div>"
      ],
      "text/plain": [
       "               ip                  time   tz method  \\\n",
       "0     192.5.90.39  08/Apr/2014:00:00:33  900    GET   \n",
       "1  211.36.150.107  08/Apr/2014:00:00:44  900    GET   \n",
       "2  211.36.145.162  08/Apr/2014:00:00:53  900    GET   \n",
       "3  118.34.149.235  08/Apr/2014:00:01:12  900    GET   \n",
       "4  118.34.149.235  08/Apr/2014:00:01:13  900    GET   \n",
       "\n",
       "                                    res  protocol  status    len  \n",
       "0                                     /  HTTP/1.1     200   1964  \n",
       "1                  /trapi/mts/Check.jsp  HTTP/1.1     200   3419  \n",
       "2                  /trapi/mts/Check.jsp  HTTP/1.1     200   3419  \n",
       "3  /common/popup/popup_hts_notice1.html  HTTP/1.1     200   2097  \n",
       "4       /img/popup/popup_140403_sms.jpg  HTTP/1.1     200  32709  \n",
       "\n",
       "[5 rows x 8 columns]"
      ]
     },
     "execution_count": 8,
     "metadata": {},
     "output_type": "execute_result"
    }
   ],
   "source": [
    "df.head()"
   ]
  },
  {
   "cell_type": "markdown",
   "metadata": {
    "slideshow": {
     "slide_type": "slide"
    }
   },
   "source": [
    "## 컬럼 데이터 포맷 변경\n",
    "* pandas.to_datetime()\n",
    "* 문자열을 datetime 타입으로 전환"
   ]
  },
  {
   "cell_type": "code",
   "execution_count": 9,
   "metadata": {
    "collapsed": false,
    "slideshow": {
     "slide_type": "subslide"
    }
   },
   "outputs": [],
   "source": [
    "df['time'] = pd.to_datetime(df['time'], format=\"%d/%b/%Y:%H:%M:%S\")"
   ]
  },
  {
   "cell_type": "code",
   "execution_count": 10,
   "metadata": {
    "collapsed": false,
    "slideshow": {
     "slide_type": "fragment"
    }
   },
   "outputs": [
    {
     "data": {
      "text/html": [
       "<div style=\"max-height:1000px;max-width:1500px;overflow:auto;\">\n",
       "<table border=\"1\" class=\"dataframe\">\n",
       "  <thead>\n",
       "    <tr style=\"text-align: right;\">\n",
       "      <th></th>\n",
       "      <th>ip</th>\n",
       "      <th>time</th>\n",
       "      <th>tz</th>\n",
       "      <th>method</th>\n",
       "      <th>res</th>\n",
       "      <th>protocol</th>\n",
       "      <th>status</th>\n",
       "      <th>len</th>\n",
       "    </tr>\n",
       "  </thead>\n",
       "  <tbody>\n",
       "    <tr>\n",
       "      <th>0</th>\n",
       "      <td>    192.5.90.39</td>\n",
       "      <td>2014-04-08 00:00:33</td>\n",
       "      <td> 900</td>\n",
       "      <td> GET</td>\n",
       "      <td>                                    /</td>\n",
       "      <td> HTTP/1.1</td>\n",
       "      <td> 200</td>\n",
       "      <td>  1964</td>\n",
       "    </tr>\n",
       "    <tr>\n",
       "      <th>1</th>\n",
       "      <td> 211.36.150.107</td>\n",
       "      <td>2014-04-08 00:00:44</td>\n",
       "      <td> 900</td>\n",
       "      <td> GET</td>\n",
       "      <td>                 /trapi/mts/Check.jsp</td>\n",
       "      <td> HTTP/1.1</td>\n",
       "      <td> 200</td>\n",
       "      <td>  3419</td>\n",
       "    </tr>\n",
       "    <tr>\n",
       "      <th>2</th>\n",
       "      <td> 211.36.145.162</td>\n",
       "      <td>2014-04-08 00:00:53</td>\n",
       "      <td> 900</td>\n",
       "      <td> GET</td>\n",
       "      <td>                 /trapi/mts/Check.jsp</td>\n",
       "      <td> HTTP/1.1</td>\n",
       "      <td> 200</td>\n",
       "      <td>  3419</td>\n",
       "    </tr>\n",
       "    <tr>\n",
       "      <th>3</th>\n",
       "      <td> 118.34.149.235</td>\n",
       "      <td>2014-04-08 00:01:12</td>\n",
       "      <td> 900</td>\n",
       "      <td> GET</td>\n",
       "      <td> /common/popup/popup_hts_notice1.html</td>\n",
       "      <td> HTTP/1.1</td>\n",
       "      <td> 200</td>\n",
       "      <td>  2097</td>\n",
       "    </tr>\n",
       "    <tr>\n",
       "      <th>4</th>\n",
       "      <td> 118.34.149.235</td>\n",
       "      <td>2014-04-08 00:01:13</td>\n",
       "      <td> 900</td>\n",
       "      <td> GET</td>\n",
       "      <td>      /img/popup/popup_140403_sms.jpg</td>\n",
       "      <td> HTTP/1.1</td>\n",
       "      <td> 200</td>\n",
       "      <td> 32709</td>\n",
       "    </tr>\n",
       "  </tbody>\n",
       "</table>\n",
       "<p>5 rows × 8 columns</p>\n",
       "</div>"
      ],
      "text/plain": [
       "               ip                time   tz method  \\\n",
       "0     192.5.90.39 2014-04-08 00:00:33  900    GET   \n",
       "1  211.36.150.107 2014-04-08 00:00:44  900    GET   \n",
       "2  211.36.145.162 2014-04-08 00:00:53  900    GET   \n",
       "3  118.34.149.235 2014-04-08 00:01:12  900    GET   \n",
       "4  118.34.149.235 2014-04-08 00:01:13  900    GET   \n",
       "\n",
       "                                    res  protocol  status    len  \n",
       "0                                     /  HTTP/1.1     200   1964  \n",
       "1                  /trapi/mts/Check.jsp  HTTP/1.1     200   3419  \n",
       "2                  /trapi/mts/Check.jsp  HTTP/1.1     200   3419  \n",
       "3  /common/popup/popup_hts_notice1.html  HTTP/1.1     200   2097  \n",
       "4       /img/popup/popup_140403_sms.jpg  HTTP/1.1     200  32709  \n",
       "\n",
       "[5 rows x 8 columns]"
      ]
     },
     "execution_count": 10,
     "metadata": {},
     "output_type": "execute_result"
    }
   ],
   "source": [
    "df.head()"
   ]
  },
  {
   "cell_type": "markdown",
   "metadata": {
    "slideshow": {
     "slide_type": "slide"
    }
   },
   "source": [
    "## 컬럼 추출, 인덱스 지정\n",
    "* pop(): time 컬럼을 추출\n",
    "* index로 지정"
   ]
  },
  {
   "cell_type": "code",
   "execution_count": 11,
   "metadata": {
    "collapsed": false,
    "slideshow": {
     "slide_type": "subslide"
    }
   },
   "outputs": [],
   "source": [
    "df.index = df.pop('time')"
   ]
  },
  {
   "cell_type": "code",
   "execution_count": 12,
   "metadata": {
    "collapsed": false,
    "slideshow": {
     "slide_type": "fragment"
    }
   },
   "outputs": [
    {
     "data": {
      "text/html": [
       "<div style=\"max-height:1000px;max-width:1500px;overflow:auto;\">\n",
       "<table border=\"1\" class=\"dataframe\">\n",
       "  <thead>\n",
       "    <tr style=\"text-align: right;\">\n",
       "      <th></th>\n",
       "      <th>ip</th>\n",
       "      <th>tz</th>\n",
       "      <th>method</th>\n",
       "      <th>res</th>\n",
       "      <th>protocol</th>\n",
       "      <th>status</th>\n",
       "      <th>len</th>\n",
       "    </tr>\n",
       "    <tr>\n",
       "      <th>time</th>\n",
       "      <th></th>\n",
       "      <th></th>\n",
       "      <th></th>\n",
       "      <th></th>\n",
       "      <th></th>\n",
       "      <th></th>\n",
       "      <th></th>\n",
       "    </tr>\n",
       "  </thead>\n",
       "  <tbody>\n",
       "    <tr>\n",
       "      <th>2014-04-08 00:00:33</th>\n",
       "      <td>    192.5.90.39</td>\n",
       "      <td> 900</td>\n",
       "      <td> GET</td>\n",
       "      <td>                                    /</td>\n",
       "      <td> HTTP/1.1</td>\n",
       "      <td> 200</td>\n",
       "      <td>  1964</td>\n",
       "    </tr>\n",
       "    <tr>\n",
       "      <th>2014-04-08 00:00:44</th>\n",
       "      <td> 211.36.150.107</td>\n",
       "      <td> 900</td>\n",
       "      <td> GET</td>\n",
       "      <td>                 /trapi/mts/Check.jsp</td>\n",
       "      <td> HTTP/1.1</td>\n",
       "      <td> 200</td>\n",
       "      <td>  3419</td>\n",
       "    </tr>\n",
       "    <tr>\n",
       "      <th>2014-04-08 00:00:53</th>\n",
       "      <td> 211.36.145.162</td>\n",
       "      <td> 900</td>\n",
       "      <td> GET</td>\n",
       "      <td>                 /trapi/mts/Check.jsp</td>\n",
       "      <td> HTTP/1.1</td>\n",
       "      <td> 200</td>\n",
       "      <td>  3419</td>\n",
       "    </tr>\n",
       "    <tr>\n",
       "      <th>2014-04-08 00:01:12</th>\n",
       "      <td> 118.34.149.235</td>\n",
       "      <td> 900</td>\n",
       "      <td> GET</td>\n",
       "      <td> /common/popup/popup_hts_notice1.html</td>\n",
       "      <td> HTTP/1.1</td>\n",
       "      <td> 200</td>\n",
       "      <td>  2097</td>\n",
       "    </tr>\n",
       "    <tr>\n",
       "      <th>2014-04-08 00:01:13</th>\n",
       "      <td> 118.34.149.235</td>\n",
       "      <td> 900</td>\n",
       "      <td> GET</td>\n",
       "      <td>      /img/popup/popup_140403_sms.jpg</td>\n",
       "      <td> HTTP/1.1</td>\n",
       "      <td> 200</td>\n",
       "      <td> 32709</td>\n",
       "    </tr>\n",
       "  </tbody>\n",
       "</table>\n",
       "<p>5 rows × 7 columns</p>\n",
       "</div>"
      ],
      "text/plain": [
       "                                 ip   tz method  \\\n",
       "time                                              \n",
       "2014-04-08 00:00:33     192.5.90.39  900    GET   \n",
       "2014-04-08 00:00:44  211.36.150.107  900    GET   \n",
       "2014-04-08 00:00:53  211.36.145.162  900    GET   \n",
       "2014-04-08 00:01:12  118.34.149.235  900    GET   \n",
       "2014-04-08 00:01:13  118.34.149.235  900    GET   \n",
       "\n",
       "                                                      res  protocol  status  \\\n",
       "time                                                                          \n",
       "2014-04-08 00:00:33                                     /  HTTP/1.1     200   \n",
       "2014-04-08 00:00:44                  /trapi/mts/Check.jsp  HTTP/1.1     200   \n",
       "2014-04-08 00:00:53                  /trapi/mts/Check.jsp  HTTP/1.1     200   \n",
       "2014-04-08 00:01:12  /common/popup/popup_hts_notice1.html  HTTP/1.1     200   \n",
       "2014-04-08 00:01:13       /img/popup/popup_140403_sms.jpg  HTTP/1.1     200   \n",
       "\n",
       "                       len  \n",
       "time                        \n",
       "2014-04-08 00:00:33   1964  \n",
       "2014-04-08 00:00:44   3419  \n",
       "2014-04-08 00:00:53   3419  \n",
       "2014-04-08 00:01:12   2097  \n",
       "2014-04-08 00:01:13  32709  \n",
       "\n",
       "[5 rows x 7 columns]"
      ]
     },
     "execution_count": 12,
     "metadata": {},
     "output_type": "execute_result"
    }
   ],
   "source": [
    "df.head()"
   ]
  },
  {
   "cell_type": "markdown",
   "metadata": {
    "slideshow": {
     "slide_type": "slide"
    }
   },
   "source": [
    "## Pickle 포맷으로 저장"
   ]
  },
  {
   "cell_type": "code",
   "execution_count": 13,
   "metadata": {
    "collapsed": false,
    "slideshow": {
     "slide_type": "subslide"
    }
   },
   "outputs": [],
   "source": [
    "df.to_pickle('data/web_20140408.pkl')"
   ]
  },
  {
   "cell_type": "code",
   "execution_count": 14,
   "metadata": {
    "collapsed": false,
    "slideshow": {
     "slide_type": "fragment"
    }
   },
   "outputs": [],
   "source": [
    "df = pd.read_pickle('data/web_20140408.pkl')"
   ]
  },
  {
   "cell_type": "code",
   "execution_count": 15,
   "metadata": {
    "collapsed": false,
    "slideshow": {
     "slide_type": "fragment"
    }
   },
   "outputs": [
    {
     "data": {
      "text/html": [
       "<div style=\"max-height:1000px;max-width:1500px;overflow:auto;\">\n",
       "<table border=\"1\" class=\"dataframe\">\n",
       "  <thead>\n",
       "    <tr style=\"text-align: right;\">\n",
       "      <th></th>\n",
       "      <th>ip</th>\n",
       "      <th>tz</th>\n",
       "      <th>method</th>\n",
       "      <th>res</th>\n",
       "      <th>protocol</th>\n",
       "      <th>status</th>\n",
       "      <th>len</th>\n",
       "    </tr>\n",
       "    <tr>\n",
       "      <th>time</th>\n",
       "      <th></th>\n",
       "      <th></th>\n",
       "      <th></th>\n",
       "      <th></th>\n",
       "      <th></th>\n",
       "      <th></th>\n",
       "      <th></th>\n",
       "    </tr>\n",
       "  </thead>\n",
       "  <tbody>\n",
       "    <tr>\n",
       "      <th>2014-04-08 00:00:33</th>\n",
       "      <td>    192.5.90.39</td>\n",
       "      <td> 900</td>\n",
       "      <td> GET</td>\n",
       "      <td>                                    /</td>\n",
       "      <td> HTTP/1.1</td>\n",
       "      <td> 200</td>\n",
       "      <td>  1964</td>\n",
       "    </tr>\n",
       "    <tr>\n",
       "      <th>2014-04-08 00:00:44</th>\n",
       "      <td> 211.36.150.107</td>\n",
       "      <td> 900</td>\n",
       "      <td> GET</td>\n",
       "      <td>                 /trapi/mts/Check.jsp</td>\n",
       "      <td> HTTP/1.1</td>\n",
       "      <td> 200</td>\n",
       "      <td>  3419</td>\n",
       "    </tr>\n",
       "    <tr>\n",
       "      <th>2014-04-08 00:00:53</th>\n",
       "      <td> 211.36.145.162</td>\n",
       "      <td> 900</td>\n",
       "      <td> GET</td>\n",
       "      <td>                 /trapi/mts/Check.jsp</td>\n",
       "      <td> HTTP/1.1</td>\n",
       "      <td> 200</td>\n",
       "      <td>  3419</td>\n",
       "    </tr>\n",
       "    <tr>\n",
       "      <th>2014-04-08 00:01:12</th>\n",
       "      <td> 118.34.149.235</td>\n",
       "      <td> 900</td>\n",
       "      <td> GET</td>\n",
       "      <td> /common/popup/popup_hts_notice1.html</td>\n",
       "      <td> HTTP/1.1</td>\n",
       "      <td> 200</td>\n",
       "      <td>  2097</td>\n",
       "    </tr>\n",
       "    <tr>\n",
       "      <th>2014-04-08 00:01:13</th>\n",
       "      <td> 118.34.149.235</td>\n",
       "      <td> 900</td>\n",
       "      <td> GET</td>\n",
       "      <td>      /img/popup/popup_140403_sms.jpg</td>\n",
       "      <td> HTTP/1.1</td>\n",
       "      <td> 200</td>\n",
       "      <td> 32709</td>\n",
       "    </tr>\n",
       "  </tbody>\n",
       "</table>\n",
       "<p>5 rows × 7 columns</p>\n",
       "</div>"
      ],
      "text/plain": [
       "                                 ip   tz method  \\\n",
       "time                                              \n",
       "2014-04-08 00:00:33     192.5.90.39  900    GET   \n",
       "2014-04-08 00:00:44  211.36.150.107  900    GET   \n",
       "2014-04-08 00:00:53  211.36.145.162  900    GET   \n",
       "2014-04-08 00:01:12  118.34.149.235  900    GET   \n",
       "2014-04-08 00:01:13  118.34.149.235  900    GET   \n",
       "\n",
       "                                                      res  protocol  status  \\\n",
       "time                                                                          \n",
       "2014-04-08 00:00:33                                     /  HTTP/1.1     200   \n",
       "2014-04-08 00:00:44                  /trapi/mts/Check.jsp  HTTP/1.1     200   \n",
       "2014-04-08 00:00:53                  /trapi/mts/Check.jsp  HTTP/1.1     200   \n",
       "2014-04-08 00:01:12  /common/popup/popup_hts_notice1.html  HTTP/1.1     200   \n",
       "2014-04-08 00:01:13       /img/popup/popup_140403_sms.jpg  HTTP/1.1     200   \n",
       "\n",
       "                       len  \n",
       "time                        \n",
       "2014-04-08 00:00:33   1964  \n",
       "2014-04-08 00:00:44   3419  \n",
       "2014-04-08 00:00:53   3419  \n",
       "2014-04-08 00:01:12   2097  \n",
       "2014-04-08 00:01:13  32709  \n",
       "\n",
       "[5 rows x 7 columns]"
      ]
     },
     "execution_count": 15,
     "metadata": {},
     "output_type": "execute_result"
    }
   ],
   "source": [
    "df.head()"
   ]
  }
 ],
 "metadata": {
  "kernelspec": {
   "display_name": "Python 3",
   "language": "python",
   "name": "python3"
  },
  "language_info": {
   "codemirror_mode": {
    "name": "ipython",
    "version": 3
   },
   "file_extension": ".py",
   "mimetype": "text/x-python",
   "name": "python",
   "nbconvert_exporter": "python",
   "pygments_lexer": "ipython3",
   "version": "3.4.3"
  }
 },
 "nbformat": 4,
 "nbformat_minor": 0
}
