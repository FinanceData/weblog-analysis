{
 "metadata": {
  "name": "",
  "signature": "sha256:24a74ad571a688f63000308dbbeeb4267afe294b06a28fc9c77a5985d3c4e125"
 },
 "nbformat": 3,
 "nbformat_minor": 0,
 "worksheets": [
  {
   "cells": [
    {
     "cell_type": "markdown",
     "metadata": {
      "slideshow": {
       "slide_type": "slide"
      }
     },
     "source": [
      "# 01. Gathering Files"
     ]
    },
    {
     "cell_type": "markdown",
     "metadata": {
      "slideshow": {
       "slide_type": "slide"
      }
     },
     "source": [
      "## \ub85c\uadf8  \ud30c\uc77c \ub2e4\uc6b4\ub85c\ub4dc \n",
      "* requests \ubaa8\ub4c8\n",
      "* wget \uae30\ub2a5 \uad6c\ud604"
     ]
    },
    {
     "cell_type": "markdown",
     "metadata": {
      "slideshow": {
       "slide_type": "notes"
      }
     },
     "source": [
      "requests \ubaa8\ub4c8\uc740 \uc0ac\uc6a9\ud558\uac8c \uc27d\uac8c \ub9cc\ub4e4\uc5b4\uc9c4 \ud30c\uc774\uc36c\uc6a9 HTTP \ub77c\uc774\ube0c\ub7ec\ub9ac"
     ]
    },
    {
     "cell_type": "code",
     "collapsed": false,
     "input": [
      "import requests\n",
      "\n",
      "def wget(url, to=None):\n",
      "    local_file = url.split('/')[-1]\n",
      "    if to:\n",
      "        local_file = to\n",
      "    req = requests.get(url, stream=True)\n",
      "    f = open(local_file, 'wb')\n",
      "    for chunk in req.iter_content(chunk_size=1024): \n",
      "        if chunk:\n",
      "            f.write(chunk)\n",
      "    f.flush()\n",
      "    return local_file"
     ],
     "language": "python",
     "metadata": {
      "slideshow": {
       "slide_type": "subslide"
      }
     },
     "outputs": [],
     "prompt_number": 1
    },
    {
     "cell_type": "code",
     "collapsed": false,
     "input": [
      "# testing\n",
      "url = 'http://127.0.0.37/utils/getLogFile.jsp?f=web01_2014031.log'\n",
      "wget(url, to='data/web_20140408.log')"
     ],
     "language": "python",
     "metadata": {
      "slideshow": {
       "slide_type": "fragment"
      }
     },
     "outputs": [
      {
       "metadata": {},
       "output_type": "pyout",
       "prompt_number": 2,
       "text": [
        "'data/web_20140317.log'"
       ]
      }
     ],
     "prompt_number": 2
    },
    {
     "cell_type": "markdown",
     "metadata": {
      "slideshow": {
       "slide_type": "slide"
      }
     },
     "source": [
      "## Datetime and timedelta\n",
      "* \uc77c\ubc18\uc801\uc73c\ub85c \ub85c\uadf8 \ud30c\uc77c\uba85\uc740 \ub0a0\uc9dc \uc2dc\uac04\uc744 \ud3ec\ud568\n",
      "* timedelta: \uae30\uac04 \ud639\uc740 \ucc28\uc774\ub97c \uc5f0\uc0b0 (\uc608: 1\uc77c\uc804)\n",
      "* strftime(): datetime \ubb38\uc790\uc5f4 \ud3ec\ub9f7 "
     ]
    },
    {
     "cell_type": "code",
     "collapsed": false,
     "input": [
      "from datetime import date, timedelta\n",
      "\n",
      "yday = date.today() - timedelta(days=1)\n",
      "date_str = yday.strftime('%Y-%m-%d')\n",
      "date_str"
     ],
     "language": "python",
     "metadata": {
      "slideshow": {
       "slide_type": "fragment"
      }
     },
     "outputs": [
      {
       "metadata": {},
       "output_type": "pyout",
       "prompt_number": 5,
       "text": [
        "'2014-04-13'"
       ]
      }
     ],
     "prompt_number": 5
    },
    {
     "cell_type": "markdown",
     "metadata": {
      "slideshow": {
       "slide_type": "slide"
      }
     },
     "source": [
      "## \ub85c\uadf8 \ud30c\uc77c \uc218\uc9d1\n",
      "* \uc11c\ubc84\uba85, \ub0a0\uc9dc \ub4f1\uc744 \uc870\ud569\ud558\uc5ec \ud30c\uc77c\uba85(url) \ub4f1\uc744 \uc870\ud569\n",
      "* wget(), \ub85c\uadf8 \ud30c\uc77c \ub2e4\uc6b4\ub85c\ub4dc"
     ]
    },
    {
     "cell_type": "code",
     "collapsed": false,
     "input": [
      "base_url = 'http://127.0.0.37/utils/getLogFile.jsp'\n",
      "server_names = ['web01', 'web02', 'web03']\n",
      "\n",
      "yday = date.today() - timedelta(days=1)\n",
      "\n",
      "for w in server_names:\n",
      "    url = '%s?f=%s_%s.log' % (base_url, w, yday.strftime('%Y%m%d'))\n",
      "    to = 'data/%s_%s.log' % (w, yday.strftime('%Y%m%d'))\n",
      "    wget( url, to )"
     ],
     "language": "python",
     "metadata": {
      "slideshow": {
       "slide_type": "fragment"
      }
     },
     "outputs": [],
     "prompt_number": 6
    }
   ],
   "metadata": {}
  }
 ]
}