{
 "cells": [
  {
   "cell_type": "markdown",
   "metadata": {
    "slideshow": {
     "slide_type": "slide"
    }
   },
   "source": [
    "# 01. Gathering Files"
   ]
  },
  {
   "cell_type": "markdown",
   "metadata": {
    "slideshow": {
     "slide_type": "slide"
    }
   },
   "source": [
    "## 로그  파일 다운로드 \n",
    "* requests 모듈\n",
    "* wget 기능 구현"
   ]
  },
  {
   "cell_type": "markdown",
   "metadata": {
    "slideshow": {
     "slide_type": "notes"
    }
   },
   "source": [
    "requests 모듈은 사용하게 쉽게 만들어진 파이썬용 HTTP 라이브러리"
   ]
  },
  {
   "cell_type": "code",
   "execution_count": 1,
   "metadata": {
    "collapsed": false,
    "slideshow": {
     "slide_type": "subslide"
    }
   },
   "outputs": [],
   "source": [
    "import requests\n",
    "\n",
    "def wget(url, to=None):\n",
    "    local_file = url.split('/')[-1]\n",
    "    if to:\n",
    "        local_file = to\n",
    "    req = requests.get(url, stream=True)\n",
    "    f = open(local_file, 'wb')\n",
    "    for chunk in req.iter_content(chunk_size=1024): \n",
    "        if chunk:\n",
    "            f.write(chunk)\n",
    "    f.flush()\n",
    "    return local_file"
   ]
  },
  {
   "cell_type": "code",
   "execution_count": 2,
   "metadata": {
    "collapsed": false,
    "slideshow": {
     "slide_type": "fragment"
    }
   },
   "outputs": [
    {
     "data": {
      "text/plain": [
       "'data/web_20140317.log'"
      ]
     },
     "execution_count": 2,
     "metadata": {},
     "output_type": "execute_result"
    }
   ],
   "source": [
    "# testing\n",
    "url = 'http://127.0.0.37/utils/getLogFile.jsp?f=web01_2014031.log'\n",
    "wget(url, to='data/web_20140408.log')"
   ]
  },
  {
   "cell_type": "markdown",
   "metadata": {
    "slideshow": {
     "slide_type": "slide"
    }
   },
   "source": [
    "## Datetime and timedelta\n",
    "* 일반적으로 로그 파일명은 날짜 시간을 포함\n",
    "* timedelta: 기간 혹은 차이를 연산 (예: 1일전)\n",
    "* strftime(): datetime 문자열 포맷 "
   ]
  },
  {
   "cell_type": "code",
   "execution_count": 5,
   "metadata": {
    "collapsed": false,
    "slideshow": {
     "slide_type": "fragment"
    }
   },
   "outputs": [
    {
     "data": {
      "text/plain": [
       "'2014-04-13'"
      ]
     },
     "execution_count": 5,
     "metadata": {},
     "output_type": "execute_result"
    }
   ],
   "source": [
    "from datetime import date, timedelta\n",
    "\n",
    "yday = date.today() - timedelta(days=1)\n",
    "date_str = yday.strftime('%Y-%m-%d')\n",
    "date_str"
   ]
  },
  {
   "cell_type": "markdown",
   "metadata": {
    "slideshow": {
     "slide_type": "slide"
    }
   },
   "source": [
    "## 로그 파일 수집\n",
    "* 서버명, 날짜 등을 조합하여 파일명(url) 등을 조합\n",
    "* wget(), 로그 파일 다운로드"
   ]
  },
  {
   "cell_type": "code",
   "execution_count": 6,
   "metadata": {
    "collapsed": false,
    "slideshow": {
     "slide_type": "fragment"
    }
   },
   "outputs": [],
   "source": [
    "base_url = 'http://127.0.0.37/utils/getLogFile.jsp'\n",
    "server_names = ['web01', 'web02', 'web03']\n",
    "\n",
    "yday = date.today() - timedelta(days=1)\n",
    "\n",
    "for w in server_names:\n",
    "    url = '%s?f=%s_%s.log' % (base_url, w, yday.strftime('%Y%m%d'))\n",
    "    to = 'data/%s_%s.log' % (w, yday.strftime('%Y%m%d'))\n",
    "    wget( url, to )"
   ]
  }
 ],
 "metadata": {
  "kernelspec": {
   "display_name": "Python 3",
   "language": "python",
   "name": "python3"
  },
  "language_info": {
   "codemirror_mode": {
    "name": "ipython",
    "version": 3
   },
   "file_extension": ".py",
   "mimetype": "text/x-python",
   "name": "python",
   "nbconvert_exporter": "python",
   "pygments_lexer": "ipython3",
   "version": "3.4.3"
  }
 },
 "nbformat": 4,
 "nbformat_minor": 0
}
