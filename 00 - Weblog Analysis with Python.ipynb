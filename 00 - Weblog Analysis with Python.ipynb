{
 "metadata": {
  "name": "",
  "signature": "sha256:53bf7f6cb192ad9ad90dfd57d5d3c9220633ebb34e1f97d0380a1af29998fea4"
 },
 "nbformat": 3,
 "nbformat_minor": 0,
 "worksheets": [
  {
   "cells": [
    {
     "cell_type": "markdown",
     "metadata": {},
     "source": [
      "# Weblog Analysis with Python "
     ]
    },
    {
     "cell_type": "markdown",
     "metadata": {},
     "source": [
      "## Notebook (ipynb)\n",
      "* [01 - Gathering logs](http://nbviewer.ipython.org/url/goo.gl/lTasur)\n",
      "* [02 - Data Munging](http://nbviewer.ipython.org/url/goo.gl/qOBCLG)\n",
      "* [03 - Status Code](http://nbviewer.ipython.org/url/goo.gl/ngm3uV)\n",
      "* [04 - Traffic Analysis](http://nbviewer.ipython.org/url/goo.gl/lPD7hg)\n",
      "* [05 - IP Analysis](http://nbviewer.ipython.org/url/goo.gl/5UrjYM)\n",
      "* [06 - email reporting](http://nbviewer.ipython.org/url/goo.gl/qP4Xbi)\n",
      "   "
     ]
    },
    {
     "cell_type": "markdown",
     "metadata": {},
     "source": [
      "## Slides (reveal.js)\n",
      "* [01 - Gathering logs](http://slideviewer.herokuapp.com//url/goo.gl/lTasur)\n",
      "* [02 - Data Munging](http://slideviewer.herokuapp.com//url/goo.gl/qOBCLG)\n",
      "* [03 - Status Code](http://slideviewer.herokuapp.com//url/goo.gl/ngm3uV)\n",
      "* [04 - Traffic Analysis](http://slideviewer.herokuapp.com//url/goo.gl/lPD7hg)\n",
      "* [05 - IP Analysis](http://slideviewer.herokuapp.com//url/goo.gl/5UrjYM)\n",
      "* [06 - email reporting](http://slideviewer.herokuapp.com//url/goo.gl/qP4Xbi)\n",
      "\n"
     ]
    },
    {
     "cell_type": "markdown",
     "metadata": {},
     "source": [
      "plusjune@gmail.com CC BY-NC-ND 2014\n"
     ]
    }
   ],
   "metadata": {}
  }
 ]
}