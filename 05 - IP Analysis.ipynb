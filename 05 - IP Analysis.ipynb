{
 "cells": [
  {
   "cell_type": "markdown",
   "metadata": {
    "slideshow": {
     "slide_type": "slide"
    }
   },
   "source": [
    "# 05. IP Analysis"
   ]
  },
  {
   "cell_type": "code",
   "execution_count": 25,
   "metadata": {
    "collapsed": false,
    "slideshow": {
     "slide_type": "slide"
    }
   },
   "outputs": [
    {
     "data": {
      "text/html": [
       "<div style=\"max-height:1000px;max-width:1500px;overflow:auto;\">\n",
       "<table border=\"1\" class=\"dataframe\">\n",
       "  <thead>\n",
       "    <tr style=\"text-align: right;\">\n",
       "      <th></th>\n",
       "      <th>ip</th>\n",
       "      <th>tz</th>\n",
       "      <th>method</th>\n",
       "      <th>res</th>\n",
       "      <th>protocol</th>\n",
       "      <th>status</th>\n",
       "      <th>len</th>\n",
       "    </tr>\n",
       "    <tr>\n",
       "      <th>time</th>\n",
       "      <th></th>\n",
       "      <th></th>\n",
       "      <th></th>\n",
       "      <th></th>\n",
       "      <th></th>\n",
       "      <th></th>\n",
       "      <th></th>\n",
       "    </tr>\n",
       "  </thead>\n",
       "  <tbody>\n",
       "    <tr>\n",
       "      <th>2014-04-08 00:00:33</th>\n",
       "      <td>    192.5.90.39</td>\n",
       "      <td> 900</td>\n",
       "      <td> GET</td>\n",
       "      <td>                                    /</td>\n",
       "      <td> HTTP/1.1</td>\n",
       "      <td> 200</td>\n",
       "      <td>  1964</td>\n",
       "    </tr>\n",
       "    <tr>\n",
       "      <th>2014-04-08 00:00:44</th>\n",
       "      <td> 211.36.150.107</td>\n",
       "      <td> 900</td>\n",
       "      <td> GET</td>\n",
       "      <td>                 /trapi/mts/Check.jsp</td>\n",
       "      <td> HTTP/1.1</td>\n",
       "      <td> 200</td>\n",
       "      <td>  3419</td>\n",
       "    </tr>\n",
       "    <tr>\n",
       "      <th>2014-04-08 00:00:53</th>\n",
       "      <td> 211.36.145.162</td>\n",
       "      <td> 900</td>\n",
       "      <td> GET</td>\n",
       "      <td>                 /trapi/mts/Check.jsp</td>\n",
       "      <td> HTTP/1.1</td>\n",
       "      <td> 200</td>\n",
       "      <td>  3419</td>\n",
       "    </tr>\n",
       "    <tr>\n",
       "      <th>2014-04-08 00:01:12</th>\n",
       "      <td> 118.34.149.235</td>\n",
       "      <td> 900</td>\n",
       "      <td> GET</td>\n",
       "      <td> /common/popup/popup_hts_notice1.html</td>\n",
       "      <td> HTTP/1.1</td>\n",
       "      <td> 200</td>\n",
       "      <td>  2097</td>\n",
       "    </tr>\n",
       "    <tr>\n",
       "      <th>2014-04-08 00:01:13</th>\n",
       "      <td> 118.34.149.235</td>\n",
       "      <td> 900</td>\n",
       "      <td> GET</td>\n",
       "      <td>      /img/popup/popup_140403_sms.jpg</td>\n",
       "      <td> HTTP/1.1</td>\n",
       "      <td> 200</td>\n",
       "      <td> 32709</td>\n",
       "    </tr>\n",
       "  </tbody>\n",
       "</table>\n",
       "<p>5 rows × 7 columns</p>\n",
       "</div>"
      ],
      "text/plain": [
       "                                 ip   tz method  \\\n",
       "time                                              \n",
       "2014-04-08 00:00:33     192.5.90.39  900    GET   \n",
       "2014-04-08 00:00:44  211.36.150.107  900    GET   \n",
       "2014-04-08 00:00:53  211.36.145.162  900    GET   \n",
       "2014-04-08 00:01:12  118.34.149.235  900    GET   \n",
       "2014-04-08 00:01:13  118.34.149.235  900    GET   \n",
       "\n",
       "                                                      res  protocol  status  \\\n",
       "time                                                                          \n",
       "2014-04-08 00:00:33                                     /  HTTP/1.1     200   \n",
       "2014-04-08 00:00:44                  /trapi/mts/Check.jsp  HTTP/1.1     200   \n",
       "2014-04-08 00:00:53                  /trapi/mts/Check.jsp  HTTP/1.1     200   \n",
       "2014-04-08 00:01:12  /common/popup/popup_hts_notice1.html  HTTP/1.1     200   \n",
       "2014-04-08 00:01:13       /img/popup/popup_140403_sms.jpg  HTTP/1.1     200   \n",
       "\n",
       "                       len  \n",
       "time                        \n",
       "2014-04-08 00:00:33   1964  \n",
       "2014-04-08 00:00:44   3419  \n",
       "2014-04-08 00:00:53   3419  \n",
       "2014-04-08 00:01:12   2097  \n",
       "2014-04-08 00:01:13  32709  \n",
       "\n",
       "[5 rows x 7 columns]"
      ]
     },
     "execution_count": 25,
     "metadata": {},
     "output_type": "execute_result"
    }
   ],
   "source": [
    "import numpy as np\n",
    "import pandas as pd\n",
    "from pandas import DataFrame\n",
    "\n",
    "import matplotlib.pyplot as plt\n",
    "plt.rcParams['figure.figsize']=(16,4) # 기본 크기를 (16,4)로 한다. (단위는 인치)\n",
    "\n",
    "df = pd.read_pickle('data/web_20140408.pkl')\n",
    "df.head()"
   ]
  },
  {
   "cell_type": "markdown",
   "metadata": {
    "slideshow": {
     "slide_type": "slide"
    }
   },
   "source": [
    "## groupby()\n",
    "* IP주소를 기준으로 그룹핑하고, size()산정\n",
    "* 결과, IP별 요청수"
   ]
  },
  {
   "cell_type": "code",
   "execution_count": 27,
   "metadata": {
    "collapsed": false,
    "slideshow": {
     "slide_type": "fragment"
    }
   },
   "outputs": [
    {
     "data": {
      "text/plain": [
       "ip\n",
       "1.11.20.10         2\n",
       "1.11.225.206      15\n",
       "1.11.227.76        2\n",
       "1.11.78.188       46\n",
       "1.11.81.110       13\n",
       "1.11.90.2          3\n",
       "1.122.200.112      1\n",
       "1.176.115.189      1\n",
       "1.176.123.95       2\n",
       "1.176.75.161       2\n",
       "1.177.124.219      6\n",
       "1.177.145.246    256\n",
       "1.177.162.227    101\n",
       "1.177.189.218      2\n",
       "1.177.228.83       1\n",
       "...\n",
       "82.35.247.15        5\n",
       "83.136.13.5         2\n",
       "85.113.58.144       1\n",
       "86.64.140.84        2\n",
       "87.200.43.106      21\n",
       "88.139.11.22        1\n",
       "88.176.196.18       1\n",
       "88.189.153.215      1\n",
       "90.13.127.100       1\n",
       "90.218.202.148      1\n",
       "90.34.240.48        1\n",
       "92.148.152.63       2\n",
       "93.184.238.133     49\n",
       "94.125.95.9         1\n",
       "99.189.0.21       300\n",
       "Length: 7515, dtype: int64"
      ]
     },
     "execution_count": 27,
     "metadata": {},
     "output_type": "execute_result"
    }
   ],
   "source": [
    "ips = df.groupby('ip').size()\n",
    "ips"
   ]
  },
  {
   "cell_type": "markdown",
   "metadata": {
    "slideshow": {
     "slide_type": "slide"
    }
   },
   "source": [
    "## 기본통계량\n",
    "표본수(count), 평균(mean), 표준편차(std), 4분위값(25%, 50%, 75%), 최대값(max)"
   ]
  },
  {
   "cell_type": "code",
   "execution_count": 28,
   "metadata": {
    "collapsed": false,
    "slideshow": {
     "slide_type": "fragment"
    }
   },
   "outputs": [
    {
     "data": {
      "text/plain": [
       "count     7515.000000\n",
       "mean        48.505256\n",
       "std        274.811374\n",
       "min          1.000000\n",
       "25%          1.000000\n",
       "50%          3.000000\n",
       "75%         14.000000\n",
       "max      14457.000000\n",
       "dtype: float64"
      ]
     },
     "execution_count": 28,
     "metadata": {},
     "output_type": "execute_result"
    }
   ],
   "source": [
    "ips.describe()"
   ]
  },
  {
   "cell_type": "markdown",
   "metadata": {
    "slideshow": {
     "slide_type": "slide"
    }
   },
   "source": [
    "## TOP-N\n",
    "오름차순(ascending)소트 한 후, 뒷 부분 n개를 추출 "
   ]
  },
  {
   "cell_type": "code",
   "execution_count": 34,
   "metadata": {
    "collapsed": false,
    "slideshow": {
     "slide_type": "fragment"
    }
   },
   "outputs": [
    {
     "data": {
      "text/plain": [
       "ip\n",
       "121.153.165.149     2008\n",
       "175.197.168.218     2063\n",
       "124.80.85.234       2067\n",
       "175.200.183.182     2152\n",
       "180.69.216.87       2272\n",
       "124.53.161.58       2434\n",
       "210.106.60.36       2693\n",
       "175.203.104.229     2804\n",
       "61.100.197.190      3000\n",
       "125.138.98.12       3003\n",
       "112.169.234.11      3014\n",
       "115.88.199.168      3076\n",
       "115.140.107.121     3114\n",
       "210.124.124.37      3178\n",
       "59.9.60.43          3516\n",
       "119.192.182.9       3550\n",
       "112.167.50.181      5257\n",
       "222.122.27.237      5273\n",
       "1.232.86.214        7278\n",
       "210.124.124.22     14457\n",
       "dtype: int64"
      ]
     },
     "execution_count": 34,
     "metadata": {},
     "output_type": "execute_result"
    }
   ],
   "source": [
    "ips.sort()\n",
    "ips[-20:]"
   ]
  },
  {
   "cell_type": "code",
   "execution_count": 38,
   "metadata": {
    "collapsed": false,
    "slideshow": {
     "slide_type": "subslide"
    }
   },
   "outputs": [
    {
     "data": {
      "text/plain": [
       "<matplotlib.axes.AxesSubplot at 0x9e48d30>"
      ]
     },
     "execution_count": 38,
     "metadata": {},
     "output_type": "execute_result"
    },
    {
     "data": {
      "image/png": "[encoded data removed]",
      "text/plain": [
       "<matplotlib.figure.Figure at 0x6bede10>"
      ]
     },
     "metadata": {},
     "output_type": "display_data"
    }
   ],
   "source": [
    "ips[-20:].plot(kind='barh', figsize=(16,8), title=\"request count\")"
   ]
  },
  {
   "cell_type": "markdown",
   "metadata": {
    "slideshow": {
     "slide_type": "slide"
    }
   },
   "source": [
    "## Boolean indexing\n",
    "특정 IP의 요청 내역"
   ]
  },
  {
   "cell_type": "code",
   "execution_count": 63,
   "metadata": {
    "collapsed": false,
    "slideshow": {
     "slide_type": "fragment"
    }
   },
   "outputs": [
    {
     "data": {
      "text/html": [
       "<div style=\"max-height:1000px;max-width:1500px;overflow:auto;\">\n",
       "<table border=\"1\" class=\"dataframe\">\n",
       "  <thead>\n",
       "    <tr style=\"text-align: right;\">\n",
       "      <th></th>\n",
       "      <th>ip</th>\n",
       "      <th>tz</th>\n",
       "      <th>method</th>\n",
       "      <th>res</th>\n",
       "      <th>protocol</th>\n",
       "      <th>status</th>\n",
       "      <th>len</th>\n",
       "    </tr>\n",
       "    <tr>\n",
       "      <th>time</th>\n",
       "      <th></th>\n",
       "      <th></th>\n",
       "      <th></th>\n",
       "      <th></th>\n",
       "      <th></th>\n",
       "      <th></th>\n",
       "      <th></th>\n",
       "    </tr>\n",
       "  </thead>\n",
       "  <tbody>\n",
       "    <tr>\n",
       "      <th>2014-04-08 07:51:18</th>\n",
       "      <td> 210.124.124.22</td>\n",
       "      <td> 900</td>\n",
       "      <td>  GET</td>\n",
       "      <td> /api/kbstar/nowPrice.action?shcode=122630</td>\n",
       "      <td> HTTP/1.1</td>\n",
       "      <td> 200</td>\n",
       "      <td> 6120</td>\n",
       "    </tr>\n",
       "    <tr>\n",
       "      <th>2014-04-08 07:51:18</th>\n",
       "      <td> 210.124.124.22</td>\n",
       "      <td> 900</td>\n",
       "      <td>  GET</td>\n",
       "      <td>                         /common/empty.jsp</td>\n",
       "      <td> HTTP/1.1</td>\n",
       "      <td> 200</td>\n",
       "      <td>   68</td>\n",
       "    </tr>\n",
       "    <tr>\n",
       "      <th>2014-04-08 07:51:18</th>\n",
       "      <td> 210.124.124.22</td>\n",
       "      <td> 900</td>\n",
       "      <td>  GET</td>\n",
       "      <td>                         /common/empty.jsp</td>\n",
       "      <td> HTTP/1.1</td>\n",
       "      <td> 200</td>\n",
       "      <td>   68</td>\n",
       "    </tr>\n",
       "    <tr>\n",
       "      <th>2014-04-08 07:51:18</th>\n",
       "      <td> 210.124.124.22</td>\n",
       "      <td> 900</td>\n",
       "      <td>  GET</td>\n",
       "      <td>                         /common/empty.jsp</td>\n",
       "      <td> HTTP/1.1</td>\n",
       "      <td> 200</td>\n",
       "      <td>   68</td>\n",
       "    </tr>\n",
       "    <tr>\n",
       "      <th>2014-04-08 07:51:18</th>\n",
       "      <td> 210.124.124.22</td>\n",
       "      <td> 900</td>\n",
       "      <td> POST</td>\n",
       "      <td>           /api/kbstar/hiddenUpname.action</td>\n",
       "      <td> HTTP/1.1</td>\n",
       "      <td> 200</td>\n",
       "      <td>  713</td>\n",
       "    </tr>\n",
       "  </tbody>\n",
       "</table>\n",
       "<p>5 rows × 7 columns</p>\n",
       "</div>"
      ],
      "text/plain": [
       "                                 ip   tz method  \\\n",
       "time                                              \n",
       "2014-04-08 07:51:18  210.124.124.22  900    GET   \n",
       "2014-04-08 07:51:18  210.124.124.22  900    GET   \n",
       "2014-04-08 07:51:18  210.124.124.22  900    GET   \n",
       "2014-04-08 07:51:18  210.124.124.22  900    GET   \n",
       "2014-04-08 07:51:18  210.124.124.22  900   POST   \n",
       "\n",
       "                                                           res  protocol  \\\n",
       "time                                                                       \n",
       "2014-04-08 07:51:18  /api/kbstar/nowPrice.action?shcode=122630  HTTP/1.1   \n",
       "2014-04-08 07:51:18                          /common/empty.jsp  HTTP/1.1   \n",
       "2014-04-08 07:51:18                          /common/empty.jsp  HTTP/1.1   \n",
       "2014-04-08 07:51:18                          /common/empty.jsp  HTTP/1.1   \n",
       "2014-04-08 07:51:18            /api/kbstar/hiddenUpname.action  HTTP/1.1   \n",
       "\n",
       "                     status   len  \n",
       "time                               \n",
       "2014-04-08 07:51:18     200  6120  \n",
       "2014-04-08 07:51:18     200    68  \n",
       "2014-04-08 07:51:18     200    68  \n",
       "2014-04-08 07:51:18     200    68  \n",
       "2014-04-08 07:51:18     200   713  \n",
       "\n",
       "[5 rows x 7 columns]"
      ]
     },
     "execution_count": 63,
     "metadata": {},
     "output_type": "execute_result"
    }
   ],
   "source": [
    "t = df[df.ip == '210.124.124.22']\n",
    "t.head()"
   ]
  },
  {
   "cell_type": "code",
   "execution_count": 62,
   "metadata": {
    "collapsed": false,
    "slideshow": {
     "slide_type": "subslide"
    }
   },
   "outputs": [
    {
     "data": {
      "text/html": [
       "<div style=\"max-height:1000px;max-width:1500px;overflow:auto;\">\n",
       "<table border=\"1\" class=\"dataframe\">\n",
       "  <thead>\n",
       "    <tr style=\"text-align: right;\">\n",
       "      <th></th>\n",
       "      <th>ip</th>\n",
       "      <th>tz</th>\n",
       "      <th>method</th>\n",
       "      <th>res</th>\n",
       "      <th>protocol</th>\n",
       "      <th>status</th>\n",
       "      <th>len</th>\n",
       "    </tr>\n",
       "    <tr>\n",
       "      <th>time</th>\n",
       "      <th></th>\n",
       "      <th></th>\n",
       "      <th></th>\n",
       "      <th></th>\n",
       "      <th></th>\n",
       "      <th></th>\n",
       "      <th></th>\n",
       "    </tr>\n",
       "  </thead>\n",
       "  <tbody>\n",
       "    <tr>\n",
       "      <th>2014-04-08 07:51:18</th>\n",
       "      <td> 210.124.124.22</td>\n",
       "      <td> 900</td>\n",
       "      <td> POST</td>\n",
       "      <td>                   /api/kbstar/hiddenUpname.action</td>\n",
       "      <td> HTTP/1.1</td>\n",
       "      <td> 200</td>\n",
       "      <td>   713</td>\n",
       "    </tr>\n",
       "    <tr>\n",
       "      <th>2014-04-08 07:51:18</th>\n",
       "      <td> 210.124.124.22</td>\n",
       "      <td> 900</td>\n",
       "      <td> POST</td>\n",
       "      <td> /api/kbstar/StockHoga.action?hasTab=N&amp;hasButto...</td>\n",
       "      <td> HTTP/1.1</td>\n",
       "      <td> 200</td>\n",
       "      <td> 15645</td>\n",
       "    </tr>\n",
       "    <tr>\n",
       "      <th>2014-04-08 07:51:18</th>\n",
       "      <td> 210.124.124.22</td>\n",
       "      <td> 900</td>\n",
       "      <td> POST</td>\n",
       "      <td> /api/kbstar/StockHoga.action?hasTab=N&amp;hasButto...</td>\n",
       "      <td> HTTP/1.1</td>\n",
       "      <td> 200</td>\n",
       "      <td> 15645</td>\n",
       "    </tr>\n",
       "    <tr>\n",
       "      <th>2014-04-08 08:07:58</th>\n",
       "      <td> 210.124.124.22</td>\n",
       "      <td> 900</td>\n",
       "      <td> POST</td>\n",
       "      <td>                   /api/kbstar/hiddenUpname.action</td>\n",
       "      <td> HTTP/1.1</td>\n",
       "      <td> 200</td>\n",
       "      <td>   724</td>\n",
       "    </tr>\n",
       "    <tr>\n",
       "      <th>2014-04-08 08:07:58</th>\n",
       "      <td> 210.124.124.22</td>\n",
       "      <td> 900</td>\n",
       "      <td> POST</td>\n",
       "      <td> /api/kbstar/StockHoga.action?hasTab=N&amp;hasButto...</td>\n",
       "      <td> HTTP/1.1</td>\n",
       "      <td> 200</td>\n",
       "      <td> 15654</td>\n",
       "    </tr>\n",
       "  </tbody>\n",
       "</table>\n",
       "<p>5 rows × 7 columns</p>\n",
       "</div>"
      ],
      "text/plain": [
       "                                 ip   tz method  \\\n",
       "time                                              \n",
       "2014-04-08 07:51:18  210.124.124.22  900   POST   \n",
       "2014-04-08 07:51:18  210.124.124.22  900   POST   \n",
       "2014-04-08 07:51:18  210.124.124.22  900   POST   \n",
       "2014-04-08 08:07:58  210.124.124.22  900   POST   \n",
       "2014-04-08 08:07:58  210.124.124.22  900   POST   \n",
       "\n",
       "                                                                   res  \\\n",
       "time                                                                     \n",
       "2014-04-08 07:51:18                    /api/kbstar/hiddenUpname.action   \n",
       "2014-04-08 07:51:18  /api/kbstar/StockHoga.action?hasTab=N&hasButto...   \n",
       "2014-04-08 07:51:18  /api/kbstar/StockHoga.action?hasTab=N&hasButto...   \n",
       "2014-04-08 08:07:58                    /api/kbstar/hiddenUpname.action   \n",
       "2014-04-08 08:07:58  /api/kbstar/StockHoga.action?hasTab=N&hasButto...   \n",
       "\n",
       "                     protocol  status    len  \n",
       "time                                          \n",
       "2014-04-08 07:51:18  HTTP/1.1     200    713  \n",
       "2014-04-08 07:51:18  HTTP/1.1     200  15645  \n",
       "2014-04-08 07:51:18  HTTP/1.1     200  15645  \n",
       "2014-04-08 08:07:58  HTTP/1.1     200    724  \n",
       "2014-04-08 08:07:58  HTTP/1.1     200  15654  \n",
       "\n",
       "[5 rows x 7 columns]"
      ]
     },
     "execution_count": 62,
     "metadata": {},
     "output_type": "execute_result"
    }
   ],
   "source": [
    "t = df[(df.ip == '210.124.124.22') & (df.method == 'POST') ]\n",
    "t.head()"
   ]
  },
  {
   "cell_type": "markdown",
   "metadata": {
    "slideshow": {
     "slide_type": "slide"
    }
   },
   "source": [
    "특정 IP의 하루동안 요청 활동"
   ]
  },
  {
   "cell_type": "code",
   "execution_count": 59,
   "metadata": {
    "collapsed": false,
    "slideshow": {
     "slide_type": "fragment"
    }
   },
   "outputs": [
    {
     "data": {
      "text/plain": [
       "<matplotlib.axes.AxesSubplot at 0x6b39550>"
      ]
     },
     "execution_count": 59,
     "metadata": {},
     "output_type": "execute_result"
    },
    {
     "data": {
      "image/png": "[encoded data removed]",
      "text/plain": [
       "<matplotlib.figure.Figure at 0x6b391d0>"
      ]
     },
     "metadata": {},
     "output_type": "display_data"
    }
   ],
   "source": [
    "df_t = df[df.ip == '210.124.124.22']['len'].resample('10T', how='count')\n",
    "df_t.plot()"
   ]
  },
  {
   "cell_type": "code",
   "execution_count": null,
   "metadata": {
    "collapsed": false,
    "slideshow": {
     "slide_type": "skip"
    }
   },
   "outputs": [],
   "source": [
    "# reverse lookup\n",
    "import socket\n",
    "socket.gethostbyaddr('210.124.124.22') "
   ]
  },
  {
   "cell_type": "code",
   "execution_count": null,
   "metadata": {
    "collapsed": false,
    "slideshow": {
     "slide_type": "skip"
    }
   },
   "outputs": [],
   "source": [
    "# reverse lookup\n",
    "\n",
    "'''\n",
    "iip = ips[-20:]\n",
    "\n",
    "for i in iip.index:\n",
    "    try:\n",
    "        print i\n",
    "        socket.gethostbyaddr(i)\n",
    "    except:\n",
    "        pass\n",
    "'''"
   ]
  },
  {
   "cell_type": "markdown",
   "metadata": {
    "slideshow": {
     "slide_type": "slide"
    }
   },
   "source": [
    "## Geo IP\n",
    "pygeoip 모듈"
   ]
  },
  {
   "cell_type": "code",
   "execution_count": 69,
   "metadata": {
    "collapsed": false,
    "slideshow": {
     "slide_type": "fragment"
    }
   },
   "outputs": [],
   "source": [
    "import pygeoip\n",
    "gi = pygeoip.GeoIP('geo/GeoLiteCity.dat', pygeoip.MEMORY_CACHE)"
   ]
  },
  {
   "cell_type": "code",
   "execution_count": 71,
   "metadata": {
    "collapsed": false,
    "slideshow": {
     "slide_type": "fragment"
    }
   },
   "outputs": [
    {
     "data": {
      "text/plain": [
       "{'area_code': 0,\n",
       " 'city': None,\n",
       " 'continent': 'AS',\n",
       " 'country_code': 'KR',\n",
       " 'country_code3': 'KOR',\n",
       " 'country_name': 'Korea, Republic of',\n",
       " 'dma_code': 0,\n",
       " 'latitude': 37.56999999999999,\n",
       " 'longitude': 126.98000000000002,\n",
       " 'metro_code': None,\n",
       " 'postal_code': None,\n",
       " 'region_code': None,\n",
       " 'time_zone': 'Asia/Seoul'}"
      ]
     },
     "execution_count": 71,
     "metadata": {},
     "output_type": "execute_result"
    }
   ],
   "source": [
    "ipcon = gi.record_by_addr('210.124.124.22')\n",
    "ipcon "
   ]
  },
  {
   "cell_type": "markdown",
   "metadata": {
    "slideshow": {
     "slide_type": "slide"
    }
   },
   "source": [
    "## Geo IP and Google Map"
   ]
  },
  {
   "cell_type": "code",
   "execution_count": 73,
   "metadata": {
    "collapsed": false,
    "slideshow": {
     "slide_type": "fragment"
    }
   },
   "outputs": [
    {
     "name": "stdout",
     "output_type": "stream",
     "text": [
      "https://google.com/maps/search/37.570000+126.980000\n"
     ]
    }
   ],
   "source": [
    "print 'https://google.com/maps/search/%f+%f' % ( ipcon['latitude'], ipcon['longitude'] )"
   ]
  },
  {
   "cell_type": "code",
   "execution_count": 78,
   "metadata": {
    "collapsed": false,
    "slideshow": {
     "slide_type": "fragment"
    }
   },
   "outputs": [
    {
     "data": {
      "text/html": [
       "<iframe src=\"https://www.google.com/maps/embed?pb=!1m14!1m8!1m3!1d12649.463731967224!2d126.97999999999999!3d37.57000000000001!3m2!1i1024!2i768!4f13.1!3m3!1m2!1s0x0%3A0x0!2zMzfCsDM0JzEyLjAiTiAxMjbCsDU4JzQ4LjAiRQ!5e0!3m2!1sko!2s!4v1397513348601\" width=\"600\" height=\"450\" frameborder=\"0\" style=\"border:0\"></iframe>"
      ],
      "text/plain": [
       "<IPython.core.display.HTML at 0x94c1bf0>"
      ]
     },
     "execution_count": 78,
     "metadata": {},
     "output_type": "execute_result"
    }
   ],
   "source": [
    "from IPython.display import HTML\n",
    "HTML('<iframe src=\"https://www.google.com/maps/embed?pb=!1m14!1m8!1m3!1d12649.463731967224!2d126.97999999999999!3d37.57000000000001!3m2!1i1024!2i768!4f13.1!3m3!1m2!1s0x0%3A0x0!2zMzfCsDM0JzEyLjAiTiAxMjbCsDU4JzQ4LjAiRQ!5e0!3m2!1sko!2s!4v1397513348601\" width=\"600\" height=\"450\" frameborder=\"0\" style=\"border:0\"></iframe>')"
   ]
  },
  {
   "cell_type": "code",
   "execution_count": 87,
   "metadata": {
    "collapsed": false,
    "slideshow": {
     "slide_type": "skip"
    }
   },
   "outputs": [
    {
     "data": {
      "text/plain": [
       "ip\n",
       "117.111.15.240     1\n",
       "39.7.57.114        1\n",
       "119.148.135.187    1\n",
       "175.223.12.77      1\n",
       "39.7.45.192        1\n",
       "39.7.56.227        1\n",
       "118.41.33.143      1\n",
       "39.7.56.224        1\n",
       "183.91.221.32      1\n",
       "183.91.195.63      1\n",
       "183.30.205.187     1\n",
       "183.91.251.86      1\n",
       "118.42.127.234     1\n",
       "118.42.54.158      1\n",
       "118.37.70.3        1\n",
       "...\n",
       "124.53.161.58       2434\n",
       "210.106.60.36       2693\n",
       "175.203.104.229     2804\n",
       "61.100.197.190      3000\n",
       "125.138.98.12       3003\n",
       "112.169.234.11      3014\n",
       "115.88.199.168      3076\n",
       "115.140.107.121     3114\n",
       "210.124.124.37      3178\n",
       "59.9.60.43          3516\n",
       "119.192.182.9       3550\n",
       "112.167.50.181      5257\n",
       "222.122.27.237      5273\n",
       "1.232.86.214        7278\n",
       "210.124.124.22     14457\n",
       "Length: 7515, dtype: int64"
      ]
     },
     "execution_count": 87,
     "metadata": {},
     "output_type": "execute_result"
    }
   ],
   "source": [
    "ips"
   ]
  },
  {
   "cell_type": "markdown",
   "metadata": {
    "slideshow": {
     "slide_type": "slide"
    }
   },
   "source": [
    "## Geo IP 정보로 DataFrame 생성"
   ]
  },
  {
   "cell_type": "code",
   "execution_count": 110,
   "metadata": {
    "collapsed": false,
    "slideshow": {
     "slide_type": "fragment"
    }
   },
   "outputs": [
    {
     "name": "stdout",
     "output_type": "stream",
     "text": [
      "The IP(162.244.107.41) not found in geo IP DB\n"
     ]
    }
   ],
   "source": [
    "cols = ['city', 'continent', 'country_name', 'country_code3', 'latitude', 'longitude']\n",
    "\n",
    "ip_infos = []\n",
    "for i in ips.index:\n",
    "    ipcon = gi.record_by_addr(i)\n",
    "    if not ipcon:\n",
    "        print 'The IP(%s) not found in geo IP DB' % i\n",
    "        continue\n",
    "    r = ipcon\n",
    "    r['ip'] = i # IP Address\n",
    "    r['count'] = ips[i] # request count\n",
    "    r['gmap'] = 'https://www.google.com/maps/search/%.5f+%.5f' % ( r['latitude'], r['longitude'] )\n",
    "    ip_infos.append( r )"
   ]
  },
  {
   "cell_type": "code",
   "execution_count": 119,
   "metadata": {
    "collapsed": false,
    "slideshow": {
     "slide_type": "fragment"
    }
   },
   "outputs": [
    {
     "data": {
      "text/html": [
       "<div style=\"max-height:1000px;max-width:1500px;overflow:auto;\">\n",
       "<table border=\"1\" class=\"dataframe\">\n",
       "  <thead>\n",
       "    <tr style=\"text-align: right;\">\n",
       "      <th></th>\n",
       "      <th>area_code</th>\n",
       "      <th>city</th>\n",
       "      <th>continent</th>\n",
       "      <th>count</th>\n",
       "      <th>country_code</th>\n",
       "      <th>country_code3</th>\n",
       "      <th>country_name</th>\n",
       "      <th>dma_code</th>\n",
       "      <th>gmap</th>\n",
       "      <th>latitude</th>\n",
       "      <th>longitude</th>\n",
       "      <th>metro_code</th>\n",
       "      <th>postal_code</th>\n",
       "      <th>region_code</th>\n",
       "      <th>time_zone</th>\n",
       "    </tr>\n",
       "    <tr>\n",
       "      <th>ip</th>\n",
       "      <th></th>\n",
       "      <th></th>\n",
       "      <th></th>\n",
       "      <th></th>\n",
       "      <th></th>\n",
       "      <th></th>\n",
       "      <th></th>\n",
       "      <th></th>\n",
       "      <th></th>\n",
       "      <th></th>\n",
       "      <th></th>\n",
       "      <th></th>\n",
       "      <th></th>\n",
       "      <th></th>\n",
       "      <th></th>\n",
       "    </tr>\n",
       "  </thead>\n",
       "  <tbody>\n",
       "    <tr>\n",
       "      <th>117.111.15.240</th>\n",
       "      <td> 0</td>\n",
       "      <td> Yongsan</td>\n",
       "      <td> AS</td>\n",
       "      <td> 1</td>\n",
       "      <td> KR</td>\n",
       "      <td> KOR</td>\n",
       "      <td> Korea, Republic of</td>\n",
       "      <td> 0</td>\n",
       "      <td> https://www.google.com/maps/search/37.53330+12...</td>\n",
       "      <td> 37.5333</td>\n",
       "      <td> 126.9667</td>\n",
       "      <td> None</td>\n",
       "      <td> None</td>\n",
       "      <td>   11</td>\n",
       "      <td> Asia/Seoul</td>\n",
       "    </tr>\n",
       "    <tr>\n",
       "      <th>39.7.57.114</th>\n",
       "      <td> 0</td>\n",
       "      <td>   Seoul</td>\n",
       "      <td> AS</td>\n",
       "      <td> 1</td>\n",
       "      <td> KR</td>\n",
       "      <td> KOR</td>\n",
       "      <td> Korea, Republic of</td>\n",
       "      <td> 0</td>\n",
       "      <td> https://www.google.com/maps/search/37.59850+12...</td>\n",
       "      <td> 37.5985</td>\n",
       "      <td> 126.9783</td>\n",
       "      <td> None</td>\n",
       "      <td> None</td>\n",
       "      <td>   11</td>\n",
       "      <td> Asia/Seoul</td>\n",
       "    </tr>\n",
       "    <tr>\n",
       "      <th>119.148.135.187</th>\n",
       "      <td> 0</td>\n",
       "      <td>    None</td>\n",
       "      <td> AS</td>\n",
       "      <td> 1</td>\n",
       "      <td> KR</td>\n",
       "      <td> KOR</td>\n",
       "      <td> Korea, Republic of</td>\n",
       "      <td> 0</td>\n",
       "      <td> https://www.google.com/maps/search/37.57000+12...</td>\n",
       "      <td> 37.5700</td>\n",
       "      <td> 126.9800</td>\n",
       "      <td> None</td>\n",
       "      <td> None</td>\n",
       "      <td> None</td>\n",
       "      <td> Asia/Seoul</td>\n",
       "    </tr>\n",
       "    <tr>\n",
       "      <th>175.223.12.77</th>\n",
       "      <td> 0</td>\n",
       "      <td>    None</td>\n",
       "      <td> AS</td>\n",
       "      <td> 1</td>\n",
       "      <td> KR</td>\n",
       "      <td> KOR</td>\n",
       "      <td> Korea, Republic of</td>\n",
       "      <td> 0</td>\n",
       "      <td> https://www.google.com/maps/search/37.57000+12...</td>\n",
       "      <td> 37.5700</td>\n",
       "      <td> 126.9800</td>\n",
       "      <td> None</td>\n",
       "      <td> None</td>\n",
       "      <td> None</td>\n",
       "      <td> Asia/Seoul</td>\n",
       "    </tr>\n",
       "    <tr>\n",
       "      <th>39.7.45.192</th>\n",
       "      <td> 0</td>\n",
       "      <td>   Seoul</td>\n",
       "      <td> AS</td>\n",
       "      <td> 1</td>\n",
       "      <td> KR</td>\n",
       "      <td> KOR</td>\n",
       "      <td> Korea, Republic of</td>\n",
       "      <td> 0</td>\n",
       "      <td> https://www.google.com/maps/search/37.59850+12...</td>\n",
       "      <td> 37.5985</td>\n",
       "      <td> 126.9783</td>\n",
       "      <td> None</td>\n",
       "      <td> None</td>\n",
       "      <td>   11</td>\n",
       "      <td> Asia/Seoul</td>\n",
       "    </tr>\n",
       "  </tbody>\n",
       "</table>\n",
       "<p>5 rows × 15 columns</p>\n",
       "</div>"
      ],
      "text/plain": [
       "                 area_code     city continent  count country_code  \\\n",
       "ip                                                                  \n",
       "117.111.15.240           0  Yongsan        AS      1           KR   \n",
       "39.7.57.114              0    Seoul        AS      1           KR   \n",
       "119.148.135.187          0     None        AS      1           KR   \n",
       "175.223.12.77            0     None        AS      1           KR   \n",
       "39.7.45.192              0    Seoul        AS      1           KR   \n",
       "\n",
       "                country_code3        country_name  dma_code  \\\n",
       "ip                                                            \n",
       "117.111.15.240            KOR  Korea, Republic of         0   \n",
       "39.7.57.114               KOR  Korea, Republic of         0   \n",
       "119.148.135.187           KOR  Korea, Republic of         0   \n",
       "175.223.12.77             KOR  Korea, Republic of         0   \n",
       "39.7.45.192               KOR  Korea, Republic of         0   \n",
       "\n",
       "                                                              gmap  latitude  \\\n",
       "ip                                                                             \n",
       "117.111.15.240   https://www.google.com/maps/search/37.53330+12...   37.5333   \n",
       "39.7.57.114      https://www.google.com/maps/search/37.59850+12...   37.5985   \n",
       "119.148.135.187  https://www.google.com/maps/search/37.57000+12...   37.5700   \n",
       "175.223.12.77    https://www.google.com/maps/search/37.57000+12...   37.5700   \n",
       "39.7.45.192      https://www.google.com/maps/search/37.59850+12...   37.5985   \n",
       "\n",
       "                 longitude metro_code postal_code region_code   time_zone  \n",
       "ip                                                                         \n",
       "117.111.15.240    126.9667       None        None          11  Asia/Seoul  \n",
       "39.7.57.114       126.9783       None        None          11  Asia/Seoul  \n",
       "119.148.135.187   126.9800       None        None        None  Asia/Seoul  \n",
       "175.223.12.77     126.9800       None        None        None  Asia/Seoul  \n",
       "39.7.45.192       126.9783       None        None          11  Asia/Seoul  \n",
       "\n",
       "[5 rows x 15 columns]"
      ]
     },
     "execution_count": 119,
     "metadata": {},
     "output_type": "execute_result"
    }
   ],
   "source": [
    "df_loc = DataFrame(ip_infos)\n",
    "df_loc.index = df_loc.pop('ip')\n",
    "df_loc.head()"
   ]
  },
  {
   "cell_type": "markdown",
   "metadata": {
    "slideshow": {
     "slide_type": "slide"
    }
   },
   "source": [
    "## Foreign IP"
   ]
  },
  {
   "cell_type": "code",
   "execution_count": 121,
   "metadata": {
    "collapsed": false,
    "slideshow": {
     "slide_type": "fragment"
    }
   },
   "outputs": [
    {
     "data": {
      "text/html": [
       "<div style=\"max-height:1000px;max-width:1500px;overflow:auto;\">\n",
       "<table border=\"1\" class=\"dataframe\">\n",
       "  <thead>\n",
       "    <tr style=\"text-align: right;\">\n",
       "      <th></th>\n",
       "      <th>area_code</th>\n",
       "      <th>city</th>\n",
       "      <th>continent</th>\n",
       "      <th>count</th>\n",
       "      <th>country_code</th>\n",
       "      <th>country_code3</th>\n",
       "      <th>country_name</th>\n",
       "      <th>dma_code</th>\n",
       "      <th>gmap</th>\n",
       "      <th>latitude</th>\n",
       "      <th>longitude</th>\n",
       "      <th>metro_code</th>\n",
       "      <th>postal_code</th>\n",
       "      <th>region_code</th>\n",
       "      <th>time_zone</th>\n",
       "    </tr>\n",
       "    <tr>\n",
       "      <th>ip</th>\n",
       "      <th></th>\n",
       "      <th></th>\n",
       "      <th></th>\n",
       "      <th></th>\n",
       "      <th></th>\n",
       "      <th></th>\n",
       "      <th></th>\n",
       "      <th></th>\n",
       "      <th></th>\n",
       "      <th></th>\n",
       "      <th></th>\n",
       "      <th></th>\n",
       "      <th></th>\n",
       "      <th></th>\n",
       "      <th></th>\n",
       "    </tr>\n",
       "  </thead>\n",
       "  <tbody>\n",
       "    <tr>\n",
       "      <th>183.30.205.187</th>\n",
       "      <td> 0</td>\n",
       "      <td>       Guangzhou</td>\n",
       "      <td> AS</td>\n",
       "      <td> 1</td>\n",
       "      <td> CN</td>\n",
       "      <td> CHN</td>\n",
       "      <td>     China</td>\n",
       "      <td> 0</td>\n",
       "      <td> https://www.google.com/maps/search/23.11670+11...</td>\n",
       "      <td> 23.1167</td>\n",
       "      <td> 113.2500</td>\n",
       "      <td> None</td>\n",
       "      <td>  None</td>\n",
       "      <td>   30</td>\n",
       "      <td>  Asia/Chongqing</td>\n",
       "    </tr>\n",
       "    <tr>\n",
       "      <th>118.201.191.10</th>\n",
       "      <td> 0</td>\n",
       "      <td>            None</td>\n",
       "      <td> AS</td>\n",
       "      <td> 1</td>\n",
       "      <td> SG</td>\n",
       "      <td> SGP</td>\n",
       "      <td> Singapore</td>\n",
       "      <td> 0</td>\n",
       "      <td> https://www.google.com/maps/search/1.36670+103...</td>\n",
       "      <td>  1.3667</td>\n",
       "      <td> 103.8000</td>\n",
       "      <td> None</td>\n",
       "      <td>  None</td>\n",
       "      <td> None</td>\n",
       "      <td>  Asia/Singapore</td>\n",
       "    </tr>\n",
       "    <tr>\n",
       "      <th>182.250.243.202</th>\n",
       "      <td> 0</td>\n",
       "      <td>            None</td>\n",
       "      <td> AS</td>\n",
       "      <td> 1</td>\n",
       "      <td> JP</td>\n",
       "      <td> JPN</td>\n",
       "      <td>     Japan</td>\n",
       "      <td> 0</td>\n",
       "      <td> https://www.google.com/maps/search/35.69000+13...</td>\n",
       "      <td> 35.6900</td>\n",
       "      <td> 139.6900</td>\n",
       "      <td> None</td>\n",
       "      <td>  None</td>\n",
       "      <td> None</td>\n",
       "      <td>      Asia/Tokyo</td>\n",
       "    </tr>\n",
       "    <tr>\n",
       "      <th>190.181.23.247</th>\n",
       "      <td> 0</td>\n",
       "      <td>          La Paz</td>\n",
       "      <td> SA</td>\n",
       "      <td> 1</td>\n",
       "      <td> BO</td>\n",
       "      <td> BOL</td>\n",
       "      <td>   Bolivia</td>\n",
       "      <td> 0</td>\n",
       "      <td> https://www.google.com/maps/search/-16.50000+-...</td>\n",
       "      <td>-16.5000</td>\n",
       "      <td> -68.1500</td>\n",
       "      <td> None</td>\n",
       "      <td>  None</td>\n",
       "      <td>   04</td>\n",
       "      <td>  America/La_Paz</td>\n",
       "    </tr>\n",
       "    <tr>\n",
       "      <th>203.174.239.39</th>\n",
       "      <td> 0</td>\n",
       "      <td>           Tokyo</td>\n",
       "      <td> AS</td>\n",
       "      <td> 1</td>\n",
       "      <td> JP</td>\n",
       "      <td> JPN</td>\n",
       "      <td>     Japan</td>\n",
       "      <td> 0</td>\n",
       "      <td> https://www.google.com/maps/search/35.68500+13...</td>\n",
       "      <td> 35.6850</td>\n",
       "      <td> 139.7514</td>\n",
       "      <td> None</td>\n",
       "      <td>  None</td>\n",
       "      <td>   40</td>\n",
       "      <td>      Asia/Tokyo</td>\n",
       "    </tr>\n",
       "    <tr>\n",
       "      <th>203.144.90.94</th>\n",
       "      <td> 0</td>\n",
       "      <td>      Phnom Penh</td>\n",
       "      <td> AS</td>\n",
       "      <td> 1</td>\n",
       "      <td> KH</td>\n",
       "      <td> KHM</td>\n",
       "      <td>  Cambodia</td>\n",
       "      <td> 0</td>\n",
       "      <td> https://www.google.com/maps/search/11.55000+10...</td>\n",
       "      <td> 11.5500</td>\n",
       "      <td> 104.9167</td>\n",
       "      <td> None</td>\n",
       "      <td>  None</td>\n",
       "      <td>   11</td>\n",
       "      <td> Asia/Phnom_Penh</td>\n",
       "    </tr>\n",
       "    <tr>\n",
       "      <th>203.144.90.79</th>\n",
       "      <td> 0</td>\n",
       "      <td>      Phnom Penh</td>\n",
       "      <td> AS</td>\n",
       "      <td> 1</td>\n",
       "      <td> KH</td>\n",
       "      <td> KHM</td>\n",
       "      <td>  Cambodia</td>\n",
       "      <td> 0</td>\n",
       "      <td> https://www.google.com/maps/search/11.55000+10...</td>\n",
       "      <td> 11.5500</td>\n",
       "      <td> 104.9167</td>\n",
       "      <td> None</td>\n",
       "      <td>  None</td>\n",
       "      <td>   11</td>\n",
       "      <td> Asia/Phnom_Penh</td>\n",
       "    </tr>\n",
       "    <tr>\n",
       "      <th>2.9.173.108</th>\n",
       "      <td> 0</td>\n",
       "      <td> Château-gontier</td>\n",
       "      <td> EU</td>\n",
       "      <td> 1</td>\n",
       "      <td> FR</td>\n",
       "      <td> FRA</td>\n",
       "      <td>    France</td>\n",
       "      <td> 0</td>\n",
       "      <td> https://www.google.com/maps/search/47.82770+-0...</td>\n",
       "      <td> 47.8277</td>\n",
       "      <td>  -0.7003</td>\n",
       "      <td> None</td>\n",
       "      <td> 53200</td>\n",
       "      <td>   B5</td>\n",
       "      <td>    Europe/Paris</td>\n",
       "    </tr>\n",
       "    <tr>\n",
       "      <th>203.144.90.70</th>\n",
       "      <td> 0</td>\n",
       "      <td>      Phnom Penh</td>\n",
       "      <td> AS</td>\n",
       "      <td> 1</td>\n",
       "      <td> KH</td>\n",
       "      <td> KHM</td>\n",
       "      <td>  Cambodia</td>\n",
       "      <td> 0</td>\n",
       "      <td> https://www.google.com/maps/search/11.55000+10...</td>\n",
       "      <td> 11.5500</td>\n",
       "      <td> 104.9167</td>\n",
       "      <td> None</td>\n",
       "      <td>  None</td>\n",
       "      <td>   11</td>\n",
       "      <td> Asia/Phnom_Penh</td>\n",
       "    </tr>\n",
       "    <tr>\n",
       "      <th>180.151.63.90</th>\n",
       "      <td> 0</td>\n",
       "      <td>            None</td>\n",
       "      <td> AS</td>\n",
       "      <td> 1</td>\n",
       "      <td> IN</td>\n",
       "      <td> IND</td>\n",
       "      <td>     India</td>\n",
       "      <td> 0</td>\n",
       "      <td> https://www.google.com/maps/search/20.00000+77...</td>\n",
       "      <td> 20.0000</td>\n",
       "      <td>  77.0000</td>\n",
       "      <td> None</td>\n",
       "      <td>  None</td>\n",
       "      <td> None</td>\n",
       "      <td>   Asia/Calcutta</td>\n",
       "    </tr>\n",
       "  </tbody>\n",
       "</table>\n",
       "<p>10 rows × 15 columns</p>\n",
       "</div>"
      ],
      "text/plain": [
       "                 area_code             city continent  count country_code  \\\n",
       "ip                                                                          \n",
       "183.30.205.187           0        Guangzhou        AS      1           CN   \n",
       "118.201.191.10           0             None        AS      1           SG   \n",
       "182.250.243.202          0             None        AS      1           JP   \n",
       "190.181.23.247           0           La Paz        SA      1           BO   \n",
       "203.174.239.39           0            Tokyo        AS      1           JP   \n",
       "203.144.90.94            0       Phnom Penh        AS      1           KH   \n",
       "203.144.90.79            0       Phnom Penh        AS      1           KH   \n",
       "2.9.173.108              0  Château-gontier        EU      1           FR   \n",
       "203.144.90.70            0       Phnom Penh        AS      1           KH   \n",
       "180.151.63.90            0             None        AS      1           IN   \n",
       "\n",
       "                country_code3 country_name  dma_code  \\\n",
       "ip                                                     \n",
       "183.30.205.187            CHN        China         0   \n",
       "118.201.191.10            SGP    Singapore         0   \n",
       "182.250.243.202           JPN        Japan         0   \n",
       "190.181.23.247            BOL      Bolivia         0   \n",
       "203.174.239.39            JPN        Japan         0   \n",
       "203.144.90.94             KHM     Cambodia         0   \n",
       "203.144.90.79             KHM     Cambodia         0   \n",
       "2.9.173.108               FRA       France         0   \n",
       "203.144.90.70             KHM     Cambodia         0   \n",
       "180.151.63.90             IND        India         0   \n",
       "\n",
       "                                                              gmap  latitude  \\\n",
       "ip                                                                             \n",
       "183.30.205.187   https://www.google.com/maps/search/23.11670+11...   23.1167   \n",
       "118.201.191.10   https://www.google.com/maps/search/1.36670+103...    1.3667   \n",
       "182.250.243.202  https://www.google.com/maps/search/35.69000+13...   35.6900   \n",
       "190.181.23.247   https://www.google.com/maps/search/-16.50000+-...  -16.5000   \n",
       "203.174.239.39   https://www.google.com/maps/search/35.68500+13...   35.6850   \n",
       "203.144.90.94    https://www.google.com/maps/search/11.55000+10...   11.5500   \n",
       "203.144.90.79    https://www.google.com/maps/search/11.55000+10...   11.5500   \n",
       "2.9.173.108      https://www.google.com/maps/search/47.82770+-0...   47.8277   \n",
       "203.144.90.70    https://www.google.com/maps/search/11.55000+10...   11.5500   \n",
       "180.151.63.90    https://www.google.com/maps/search/20.00000+77...   20.0000   \n",
       "\n",
       "                 longitude metro_code postal_code region_code        time_zone  \n",
       "ip                                                                              \n",
       "183.30.205.187    113.2500       None        None          30   Asia/Chongqing  \n",
       "118.201.191.10    103.8000       None        None        None   Asia/Singapore  \n",
       "182.250.243.202   139.6900       None        None        None       Asia/Tokyo  \n",
       "190.181.23.247    -68.1500       None        None          04   America/La_Paz  \n",
       "203.174.239.39    139.7514       None        None          40       Asia/Tokyo  \n",
       "203.144.90.94     104.9167       None        None          11  Asia/Phnom_Penh  \n",
       "203.144.90.79     104.9167       None        None          11  Asia/Phnom_Penh  \n",
       "2.9.173.108        -0.7003       None       53200          B5     Europe/Paris  \n",
       "203.144.90.70     104.9167       None        None          11  Asia/Phnom_Penh  \n",
       "180.151.63.90      77.0000       None        None        None    Asia/Calcutta  \n",
       "\n",
       "[10 rows x 15 columns]"
      ]
     },
     "execution_count": 121,
     "metadata": {},
     "output_type": "execute_result"
    }
   ],
   "source": [
    "df_foreign = df_loc[df_loc['country_code3'] != 'KOR']  \n",
    "df_foreign.head(10)"
   ]
  },
  {
   "cell_type": "markdown",
   "metadata": {
    "slideshow": {
     "slide_type": "slide"
    }
   },
   "source": [
    "## Foreign IP, TOP-N"
   ]
  },
  {
   "cell_type": "code",
   "execution_count": 122,
   "metadata": {
    "collapsed": false,
    "slideshow": {
     "slide_type": "fragment"
    }
   },
   "outputs": [
    {
     "data": {
      "text/html": [
       "<div style=\"max-height:1000px;max-width:1500px;overflow:auto;\">\n",
       "<table border=\"1\" class=\"dataframe\">\n",
       "  <thead>\n",
       "    <tr style=\"text-align: right;\">\n",
       "      <th></th>\n",
       "      <th>area_code</th>\n",
       "      <th>city</th>\n",
       "      <th>continent</th>\n",
       "      <th>count</th>\n",
       "      <th>country_code</th>\n",
       "      <th>country_code3</th>\n",
       "      <th>country_name</th>\n",
       "      <th>dma_code</th>\n",
       "      <th>gmap</th>\n",
       "      <th>latitude</th>\n",
       "      <th>longitude</th>\n",
       "      <th>metro_code</th>\n",
       "      <th>postal_code</th>\n",
       "      <th>region_code</th>\n",
       "      <th>time_zone</th>\n",
       "    </tr>\n",
       "    <tr>\n",
       "      <th>ip</th>\n",
       "      <th></th>\n",
       "      <th></th>\n",
       "      <th></th>\n",
       "      <th></th>\n",
       "      <th></th>\n",
       "      <th></th>\n",
       "      <th></th>\n",
       "      <th></th>\n",
       "      <th></th>\n",
       "      <th></th>\n",
       "      <th></th>\n",
       "      <th></th>\n",
       "      <th></th>\n",
       "      <th></th>\n",
       "      <th></th>\n",
       "    </tr>\n",
       "  </thead>\n",
       "  <tbody>\n",
       "    <tr>\n",
       "      <th>107.178.45.49</th>\n",
       "      <td> 408</td>\n",
       "      <td>        Saratoga</td>\n",
       "      <td> NA</td>\n",
       "      <td> 199</td>\n",
       "      <td> US</td>\n",
       "      <td> USA</td>\n",
       "      <td>       United States</td>\n",
       "      <td> 807</td>\n",
       "      <td> https://www.google.com/maps/search/37.25390+-1...</td>\n",
       "      <td> 37.2539</td>\n",
       "      <td>-122.0638</td>\n",
       "      <td> San Francisco, CA</td>\n",
       "      <td> 95070</td>\n",
       "      <td>   CA</td>\n",
       "      <td> America/Los_Angeles</td>\n",
       "    </tr>\n",
       "    <tr>\n",
       "      <th>121.79.144.176</th>\n",
       "      <td>   0</td>\n",
       "      <td>        Chaoyang</td>\n",
       "      <td> AS</td>\n",
       "      <td> 223</td>\n",
       "      <td> CN</td>\n",
       "      <td> CHN</td>\n",
       "      <td>               China</td>\n",
       "      <td>   0</td>\n",
       "      <td> https://www.google.com/maps/search/41.57030+12...</td>\n",
       "      <td> 41.5703</td>\n",
       "      <td> 120.4586</td>\n",
       "      <td>              None</td>\n",
       "      <td>  None</td>\n",
       "      <td>   19</td>\n",
       "      <td>         Asia/Harbin</td>\n",
       "    </tr>\n",
       "    <tr>\n",
       "      <th>99.189.0.21</th>\n",
       "      <td> 818</td>\n",
       "      <td>        Glendale</td>\n",
       "      <td> NA</td>\n",
       "      <td> 300</td>\n",
       "      <td> US</td>\n",
       "      <td> USA</td>\n",
       "      <td>       United States</td>\n",
       "      <td> 803</td>\n",
       "      <td> https://www.google.com/maps/search/34.16930+-1...</td>\n",
       "      <td> 34.1693</td>\n",
       "      <td>-118.2663</td>\n",
       "      <td>   Los Angeles, CA</td>\n",
       "      <td> 91202</td>\n",
       "      <td>   CA</td>\n",
       "      <td> America/Los_Angeles</td>\n",
       "    </tr>\n",
       "    <tr>\n",
       "      <th>123.223.85.58</th>\n",
       "      <td>   0</td>\n",
       "      <td>           Tokyo</td>\n",
       "      <td> AS</td>\n",
       "      <td> 309</td>\n",
       "      <td> JP</td>\n",
       "      <td> JPN</td>\n",
       "      <td>               Japan</td>\n",
       "      <td>   0</td>\n",
       "      <td> https://www.google.com/maps/search/35.68500+13...</td>\n",
       "      <td> 35.6850</td>\n",
       "      <td> 139.7514</td>\n",
       "      <td>              None</td>\n",
       "      <td>  None</td>\n",
       "      <td>   40</td>\n",
       "      <td>          Asia/Tokyo</td>\n",
       "    </tr>\n",
       "    <tr>\n",
       "      <th>65.24.104.75</th>\n",
       "      <td> 614</td>\n",
       "      <td>          Dublin</td>\n",
       "      <td> NA</td>\n",
       "      <td> 317</td>\n",
       "      <td> US</td>\n",
       "      <td> USA</td>\n",
       "      <td>       United States</td>\n",
       "      <td> 535</td>\n",
       "      <td> https://www.google.com/maps/search/40.09890+-8...</td>\n",
       "      <td> 40.0989</td>\n",
       "      <td> -83.1615</td>\n",
       "      <td>      Columbus, OH</td>\n",
       "      <td> 43016</td>\n",
       "      <td>   OH</td>\n",
       "      <td>    America/New_York</td>\n",
       "    </tr>\n",
       "    <tr>\n",
       "      <th>155.126.8.18</th>\n",
       "      <td>   0</td>\n",
       "      <td>            None</td>\n",
       "      <td> AS</td>\n",
       "      <td> 329</td>\n",
       "      <td> AP</td>\n",
       "      <td>  AP</td>\n",
       "      <td> Asia/Pacific Region</td>\n",
       "      <td>   0</td>\n",
       "      <td> https://www.google.com/maps/search/35.00000+10...</td>\n",
       "      <td> 35.0000</td>\n",
       "      <td> 105.0000</td>\n",
       "      <td>              None</td>\n",
       "      <td>  None</td>\n",
       "      <td> None</td>\n",
       "      <td>                None</td>\n",
       "    </tr>\n",
       "    <tr>\n",
       "      <th>75.157.46.118</th>\n",
       "      <td>   0</td>\n",
       "      <td> North Vancouver</td>\n",
       "      <td> NA</td>\n",
       "      <td> 343</td>\n",
       "      <td> CA</td>\n",
       "      <td> CAN</td>\n",
       "      <td>              Canada</td>\n",
       "      <td>   0</td>\n",
       "      <td> https://www.google.com/maps/search/49.31670+-1...</td>\n",
       "      <td> 49.3167</td>\n",
       "      <td>-123.0667</td>\n",
       "      <td>              None</td>\n",
       "      <td>  None</td>\n",
       "      <td>   BC</td>\n",
       "      <td>   America/Vancouver</td>\n",
       "    </tr>\n",
       "    <tr>\n",
       "      <th>122.54.250.2</th>\n",
       "      <td>   0</td>\n",
       "      <td>            None</td>\n",
       "      <td> AS</td>\n",
       "      <td> 396</td>\n",
       "      <td> PH</td>\n",
       "      <td> PHL</td>\n",
       "      <td>         Philippines</td>\n",
       "      <td>   0</td>\n",
       "      <td> https://www.google.com/maps/search/13.00000+12...</td>\n",
       "      <td> 13.0000</td>\n",
       "      <td> 122.0000</td>\n",
       "      <td>              None</td>\n",
       "      <td>  None</td>\n",
       "      <td> None</td>\n",
       "      <td>         Asia/Manila</td>\n",
       "    </tr>\n",
       "    <tr>\n",
       "      <th>142.136.3.65</th>\n",
       "      <td> 714</td>\n",
       "      <td>       Fullerton</td>\n",
       "      <td> NA</td>\n",
       "      <td> 553</td>\n",
       "      <td> US</td>\n",
       "      <td> USA</td>\n",
       "      <td>       United States</td>\n",
       "      <td> 803</td>\n",
       "      <td> https://www.google.com/maps/search/33.90190+-1...</td>\n",
       "      <td> 33.9019</td>\n",
       "      <td>-117.9108</td>\n",
       "      <td>   Los Angeles, CA</td>\n",
       "      <td> 92835</td>\n",
       "      <td>   CA</td>\n",
       "      <td> America/Los_Angeles</td>\n",
       "    </tr>\n",
       "    <tr>\n",
       "      <th>146.234.68.33</th>\n",
       "      <td>   0</td>\n",
       "      <td>            None</td>\n",
       "      <td> EU</td>\n",
       "      <td> 636</td>\n",
       "      <td> DE</td>\n",
       "      <td> DEU</td>\n",
       "      <td>             Germany</td>\n",
       "      <td>   0</td>\n",
       "      <td> https://www.google.com/maps/search/51.00000+9....</td>\n",
       "      <td> 51.0000</td>\n",
       "      <td>   9.0000</td>\n",
       "      <td>              None</td>\n",
       "      <td>  None</td>\n",
       "      <td> None</td>\n",
       "      <td>       Europe/Berlin</td>\n",
       "    </tr>\n",
       "  </tbody>\n",
       "</table>\n",
       "<p>10 rows × 15 columns</p>\n",
       "</div>"
      ],
      "text/plain": [
       "                area_code             city continent  count country_code  \\\n",
       "ip                                                                         \n",
       "107.178.45.49         408         Saratoga        NA    199           US   \n",
       "121.79.144.176          0         Chaoyang        AS    223           CN   \n",
       "99.189.0.21           818         Glendale        NA    300           US   \n",
       "123.223.85.58           0            Tokyo        AS    309           JP   \n",
       "65.24.104.75          614           Dublin        NA    317           US   \n",
       "155.126.8.18            0             None        AS    329           AP   \n",
       "75.157.46.118           0  North Vancouver        NA    343           CA   \n",
       "122.54.250.2            0             None        AS    396           PH   \n",
       "142.136.3.65          714        Fullerton        NA    553           US   \n",
       "146.234.68.33           0             None        EU    636           DE   \n",
       "\n",
       "               country_code3         country_name  dma_code  \\\n",
       "ip                                                            \n",
       "107.178.45.49            USA        United States       807   \n",
       "121.79.144.176           CHN                China         0   \n",
       "99.189.0.21              USA        United States       803   \n",
       "123.223.85.58            JPN                Japan         0   \n",
       "65.24.104.75             USA        United States       535   \n",
       "155.126.8.18              AP  Asia/Pacific Region         0   \n",
       "75.157.46.118            CAN               Canada         0   \n",
       "122.54.250.2             PHL          Philippines         0   \n",
       "142.136.3.65             USA        United States       803   \n",
       "146.234.68.33            DEU              Germany         0   \n",
       "\n",
       "                                                             gmap  latitude  \\\n",
       "ip                                                                            \n",
       "107.178.45.49   https://www.google.com/maps/search/37.25390+-1...   37.2539   \n",
       "121.79.144.176  https://www.google.com/maps/search/41.57030+12...   41.5703   \n",
       "99.189.0.21     https://www.google.com/maps/search/34.16930+-1...   34.1693   \n",
       "123.223.85.58   https://www.google.com/maps/search/35.68500+13...   35.6850   \n",
       "65.24.104.75    https://www.google.com/maps/search/40.09890+-8...   40.0989   \n",
       "155.126.8.18    https://www.google.com/maps/search/35.00000+10...   35.0000   \n",
       "75.157.46.118   https://www.google.com/maps/search/49.31670+-1...   49.3167   \n",
       "122.54.250.2    https://www.google.com/maps/search/13.00000+12...   13.0000   \n",
       "142.136.3.65    https://www.google.com/maps/search/33.90190+-1...   33.9019   \n",
       "146.234.68.33   https://www.google.com/maps/search/51.00000+9....   51.0000   \n",
       "\n",
       "                longitude         metro_code postal_code region_code  \\\n",
       "ip                                                                     \n",
       "107.178.45.49   -122.0638  San Francisco, CA       95070          CA   \n",
       "121.79.144.176   120.4586               None        None          19   \n",
       "99.189.0.21     -118.2663    Los Angeles, CA       91202          CA   \n",
       "123.223.85.58    139.7514               None        None          40   \n",
       "65.24.104.75     -83.1615       Columbus, OH       43016          OH   \n",
       "155.126.8.18     105.0000               None        None        None   \n",
       "75.157.46.118   -123.0667               None        None          BC   \n",
       "122.54.250.2     122.0000               None        None        None   \n",
       "142.136.3.65    -117.9108    Los Angeles, CA       92835          CA   \n",
       "146.234.68.33      9.0000               None        None        None   \n",
       "\n",
       "                          time_zone  \n",
       "ip                                   \n",
       "107.178.45.49   America/Los_Angeles  \n",
       "121.79.144.176          Asia/Harbin  \n",
       "99.189.0.21     America/Los_Angeles  \n",
       "123.223.85.58            Asia/Tokyo  \n",
       "65.24.104.75       America/New_York  \n",
       "155.126.8.18                   None  \n",
       "75.157.46.118     America/Vancouver  \n",
       "122.54.250.2            Asia/Manila  \n",
       "142.136.3.65    America/Los_Angeles  \n",
       "146.234.68.33         Europe/Berlin  \n",
       "\n",
       "[10 rows x 15 columns]"
      ]
     },
     "execution_count": 122,
     "metadata": {},
     "output_type": "execute_result"
    }
   ],
   "source": [
    "df_foreign_sort = df_foreign.sort('count')\n",
    "df_foreign_sort[-10:]"
   ]
  },
  {
   "cell_type": "code",
   "execution_count": 128,
   "metadata": {
    "collapsed": false,
    "slideshow": {
     "slide_type": "fragment"
    }
   },
   "outputs": [
    {
     "name": "stdout",
     "output_type": "stream",
     "text": [
      "['https://www.google.com/maps/search/51.00000+9.00000']\n"
     ]
    }
   ],
   "source": [
    "print df_foreign_sort[-1:]['gmap'].values"
   ]
  },
  {
   "cell_type": "markdown",
   "metadata": {
    "slideshow": {
     "slide_type": "slide"
    }
   },
   "source": [
    "## groupby country "
   ]
  },
  {
   "cell_type": "code",
   "execution_count": 131,
   "metadata": {
    "collapsed": false,
    "slideshow": {
     "slide_type": "fragment"
    }
   },
   "outputs": [],
   "source": [
    "g_country = df_loc.groupby('country_code3')"
   ]
  },
  {
   "cell_type": "code",
   "execution_count": 133,
   "metadata": {
    "collapsed": false,
    "slideshow": {
     "slide_type": "fragment"
    }
   },
   "outputs": [
    {
     "data": {
      "text/plain": [
       "<matplotlib.axes.AxesSubplot at 0xa199af0>"
      ]
     },
     "execution_count": 133,
     "metadata": {},
     "output_type": "execute_result"
    },
    {
     "data": {
      "image/png": "[encoded data removed]",
      "text/plain": [
       "<matplotlib.figure.Figure at 0xa199530>"
      ]
     },
     "metadata": {},
     "output_type": "display_data"
    }
   ],
   "source": [
    "f = g_country.agg('sum').copy()\n",
    "f_sort = f.sort('count')\n",
    "f_sort['count'][-10:].plot(kind='barh')"
   ]
  },
  {
   "cell_type": "markdown",
   "metadata": {
    "slideshow": {
     "slide_type": "slide"
    }
   },
   "source": [
    "## groupby (method, ip) "
   ]
  },
  {
   "cell_type": "code",
   "execution_count": 160,
   "metadata": {
    "collapsed": false,
    "slideshow": {
     "slide_type": "fragment"
    }
   },
   "outputs": [
    {
     "data": {
      "text/plain": [
       "method  ip           \n",
       "GET     1.11.20.10         2\n",
       "        1.11.225.206      15\n",
       "        1.11.227.76        2\n",
       "        1.11.78.188       46\n",
       "        1.11.81.110       13\n",
       "        1.11.90.2          3\n",
       "        1.122.200.112      1\n",
       "        1.176.115.189      1\n",
       "        1.176.123.95       2\n",
       "        1.176.75.161       2\n",
       "        1.177.124.219      6\n",
       "        1.177.145.246    251\n",
       "        1.177.162.227     84\n",
       "        1.177.189.218      2\n",
       "        1.177.228.83       1\n",
       "...\n",
       "POST    61.74.39.242      7\n",
       "        61.76.63.41       4\n",
       "        61.78.108.32     54\n",
       "        61.78.36.194      5\n",
       "        61.78.36.197     10\n",
       "        61.79.59.121     10\n",
       "        61.82.194.121    54\n",
       "        61.84.39.56      22\n",
       "        61.84.42.170      5\n",
       "        61.97.215.184     3\n",
       "        61.98.76.87      61\n",
       "        65.24.104.75     12\n",
       "        65.49.14.168     19\n",
       "        75.157.46.118    13\n",
       "        99.189.0.21      75\n",
       "Length: 8269, dtype: int64"
      ]
     },
     "execution_count": 160,
     "metadata": {},
     "output_type": "execute_result"
    }
   ],
   "source": [
    "ipm = df.groupby(['method', 'ip']).size()\n",
    "ipm"
   ]
  },
  {
   "cell_type": "markdown",
   "metadata": {
    "slideshow": {
     "slide_type": "slide"
    }
   },
   "source": [
    "## POST 요청  TOP-n IPs"
   ]
  },
  {
   "cell_type": "code",
   "execution_count": 158,
   "metadata": {
    "collapsed": false,
    "slideshow": {
     "slide_type": "fragment"
    }
   },
   "outputs": [
    {
     "data": {
      "text/plain": [
       "ip\n",
       "119.75.94.77        585\n",
       "175.203.104.229     614\n",
       "112.167.50.181      647\n",
       "61.100.197.190      652\n",
       "115.140.107.121     708\n",
       "112.169.234.11      877\n",
       "180.69.216.87       913\n",
       "175.200.183.182    1122\n",
       "1.232.86.214       1810\n",
       "210.124.124.22     5703\n",
       "dtype: int64"
      ]
     },
     "execution_count": 158,
     "metadata": {},
     "output_type": "execute_result"
    }
   ],
   "source": [
    "ipm_post = ipm['POST'].copy()\n",
    "ipm_post.sort()\n",
    "ipm_post[-10:]"
   ]
  },
  {
   "cell_type": "code",
   "execution_count": 46,
   "metadata": {
    "collapsed": false,
    "slideshow": {
     "slide_type": "fragment"
    }
   },
   "outputs": [
    {
     "data": {
      "text/plain": [
       "<matplotlib.axes.AxesSubplot at 0x761bdd0>"
      ]
     },
     "execution_count": 46,
     "metadata": {},
     "output_type": "execute_result"
    },
    {
     "data": {
      "image/png": "[encoded data removed]",
      "text/plain": [
       "<matplotlib.figure.Figure at 0x8256050>"
      ]
     },
     "metadata": {},
     "output_type": "display_data"
    }
   ],
   "source": [
    "ipm_post[-10:].plot(kind='barh')"
   ]
  },
  {
   "cell_type": "markdown",
   "metadata": {
    "slideshow": {
     "slide_type": "slide"
    }
   },
   "source": [
    "## 특정 IP의 일일 요청"
   ]
  },
  {
   "cell_type": "code",
   "execution_count": 175,
   "metadata": {
    "collapsed": false,
    "slideshow": {
     "slide_type": "fragment"
    }
   },
   "outputs": [
    {
     "data": {
      "text/plain": [
       "<matplotlib.axes.AxesSubplot at 0x11157990>"
      ]
     },
     "execution_count": 175,
     "metadata": {},
     "output_type": "execute_result"
    },
    {
     "data": {
      "image/png": "[encoded data removed]",
      "text/plain": [
       "<matplotlib.figure.Figure at 0x11157530>"
      ]
     },
     "metadata": {},
     "output_type": "display_data"
    }
   ],
   "source": [
    "df_t = df[df['ip'] == '210.124.124.22']['method'].resample('10T', how='count')\n",
    "df_t.plot()"
   ]
  },
  {
   "cell_type": "code",
   "execution_count": 163,
   "metadata": {
    "collapsed": false,
    "slideshow": {
     "slide_type": "slide"
    }
   },
   "outputs": [
    {
     "data": {
      "text/html": [
       "<div style=\"max-height:1000px;max-width:1500px;overflow:auto;\">\n",
       "<table border=\"1\" class=\"dataframe\">\n",
       "  <thead>\n",
       "    <tr style=\"text-align: right;\">\n",
       "      <th></th>\n",
       "      <th>ip</th>\n",
       "      <th>tz</th>\n",
       "      <th>method</th>\n",
       "      <th>res</th>\n",
       "      <th>protocol</th>\n",
       "      <th>status</th>\n",
       "      <th>len</th>\n",
       "    </tr>\n",
       "    <tr>\n",
       "      <th>time</th>\n",
       "      <th></th>\n",
       "      <th></th>\n",
       "      <th></th>\n",
       "      <th></th>\n",
       "      <th></th>\n",
       "      <th></th>\n",
       "      <th></th>\n",
       "    </tr>\n",
       "  </thead>\n",
       "  <tbody>\n",
       "    <tr>\n",
       "      <th>2014-04-08 07:51:18</th>\n",
       "      <td> 210.124.124.22</td>\n",
       "      <td> 900</td>\n",
       "      <td>  GET</td>\n",
       "      <td>         /api/kbstar/nowPrice.action?shcode=122630</td>\n",
       "      <td> HTTP/1.1</td>\n",
       "      <td> 200</td>\n",
       "      <td>  6120</td>\n",
       "    </tr>\n",
       "    <tr>\n",
       "      <th>2014-04-08 07:51:18</th>\n",
       "      <td> 210.124.124.22</td>\n",
       "      <td> 900</td>\n",
       "      <td>  GET</td>\n",
       "      <td>                                 /common/empty.jsp</td>\n",
       "      <td> HTTP/1.1</td>\n",
       "      <td> 200</td>\n",
       "      <td>    68</td>\n",
       "    </tr>\n",
       "    <tr>\n",
       "      <th>2014-04-08 07:51:18</th>\n",
       "      <td> 210.124.124.22</td>\n",
       "      <td> 900</td>\n",
       "      <td>  GET</td>\n",
       "      <td>                                 /common/empty.jsp</td>\n",
       "      <td> HTTP/1.1</td>\n",
       "      <td> 200</td>\n",
       "      <td>    68</td>\n",
       "    </tr>\n",
       "    <tr>\n",
       "      <th>2014-04-08 07:51:18</th>\n",
       "      <td> 210.124.124.22</td>\n",
       "      <td> 900</td>\n",
       "      <td>  GET</td>\n",
       "      <td>                                 /common/empty.jsp</td>\n",
       "      <td> HTTP/1.1</td>\n",
       "      <td> 200</td>\n",
       "      <td>    68</td>\n",
       "    </tr>\n",
       "    <tr>\n",
       "      <th>2014-04-08 07:51:18</th>\n",
       "      <td> 210.124.124.22</td>\n",
       "      <td> 900</td>\n",
       "      <td> POST</td>\n",
       "      <td>                   /api/kbstar/hiddenUpname.action</td>\n",
       "      <td> HTTP/1.1</td>\n",
       "      <td> 200</td>\n",
       "      <td>   713</td>\n",
       "    </tr>\n",
       "    <tr>\n",
       "      <th>2014-04-08 07:51:18</th>\n",
       "      <td> 210.124.124.22</td>\n",
       "      <td> 900</td>\n",
       "      <td> POST</td>\n",
       "      <td> /api/kbstar/StockHoga.action?hasTab=N&amp;hasButto...</td>\n",
       "      <td> HTTP/1.1</td>\n",
       "      <td> 200</td>\n",
       "      <td> 15645</td>\n",
       "    </tr>\n",
       "    <tr>\n",
       "      <th>2014-04-08 07:51:18</th>\n",
       "      <td> 210.124.124.22</td>\n",
       "      <td> 900</td>\n",
       "      <td> POST</td>\n",
       "      <td> /api/kbstar/StockHoga.action?hasTab=N&amp;hasButto...</td>\n",
       "      <td> HTTP/1.1</td>\n",
       "      <td> 200</td>\n",
       "      <td> 15645</td>\n",
       "    </tr>\n",
       "    <tr>\n",
       "      <th>2014-04-08 08:07:58</th>\n",
       "      <td> 210.124.124.22</td>\n",
       "      <td> 900</td>\n",
       "      <td>  GET</td>\n",
       "      <td>                              /js/stock/OTBCODE.js</td>\n",
       "      <td> HTTP/1.1</td>\n",
       "      <td> 200</td>\n",
       "      <td>  2654</td>\n",
       "    </tr>\n",
       "    <tr>\n",
       "      <th>2014-04-08 08:07:58</th>\n",
       "      <td> 210.124.124.22</td>\n",
       "      <td> 900</td>\n",
       "      <td> POST</td>\n",
       "      <td>                   /api/kbstar/hiddenUpname.action</td>\n",
       "      <td> HTTP/1.1</td>\n",
       "      <td> 200</td>\n",
       "      <td>   724</td>\n",
       "    </tr>\n",
       "    <tr>\n",
       "      <th>2014-04-08 08:07:58</th>\n",
       "      <td> 210.124.124.22</td>\n",
       "      <td> 900</td>\n",
       "      <td> POST</td>\n",
       "      <td> /api/kbstar/StockHoga.action?hasTab=N&amp;hasButto...</td>\n",
       "      <td> HTTP/1.1</td>\n",
       "      <td> 200</td>\n",
       "      <td> 15654</td>\n",
       "    </tr>\n",
       "    <tr>\n",
       "      <th>2014-04-08 08:07:58</th>\n",
       "      <td> 210.124.124.22</td>\n",
       "      <td> 900</td>\n",
       "      <td> POST</td>\n",
       "      <td>                   /api/kbstar/hiddenUpname.action</td>\n",
       "      <td> HTTP/1.1</td>\n",
       "      <td> 200</td>\n",
       "      <td>   724</td>\n",
       "    </tr>\n",
       "    <tr>\n",
       "      <th>2014-04-08 08:07:58</th>\n",
       "      <td> 210.124.124.22</td>\n",
       "      <td> 900</td>\n",
       "      <td> POST</td>\n",
       "      <td> /api/kbstar/StockHoga.action?hasTab=N&amp;hasButto...</td>\n",
       "      <td> HTTP/1.1</td>\n",
       "      <td> 200</td>\n",
       "      <td> 15654</td>\n",
       "    </tr>\n",
       "    <tr>\n",
       "      <th>2014-04-08 08:08:01</th>\n",
       "      <td> 210.124.124.22</td>\n",
       "      <td> 900</td>\n",
       "      <td>  GET</td>\n",
       "      <td>               /api/kbstar/nowPrice.action?shcode=</td>\n",
       "      <td> HTTP/1.1</td>\n",
       "      <td> 200</td>\n",
       "      <td>  6114</td>\n",
       "    </tr>\n",
       "    <tr>\n",
       "      <th>2014-04-08 08:08:01</th>\n",
       "      <td> 210.124.124.22</td>\n",
       "      <td> 900</td>\n",
       "      <td>  GET</td>\n",
       "      <td>                              /js/stock/OTBCODE.js</td>\n",
       "      <td> HTTP/1.1</td>\n",
       "      <td> 200</td>\n",
       "      <td>  2654</td>\n",
       "    </tr>\n",
       "    <tr>\n",
       "      <th>2014-04-08 08:08:02</th>\n",
       "      <td> 210.124.124.22</td>\n",
       "      <td> 900</td>\n",
       "      <td> POST</td>\n",
       "      <td>                   /api/kbstar/hiddenUpname.action</td>\n",
       "      <td> HTTP/1.1</td>\n",
       "      <td> 200</td>\n",
       "      <td>   722</td>\n",
       "    </tr>\n",
       "    <tr>\n",
       "      <th>2014-04-08 08:08:02</th>\n",
       "      <td> 210.124.124.22</td>\n",
       "      <td> 900</td>\n",
       "      <td> POST</td>\n",
       "      <td> /api/kbstar/StockHoga.action?hasTab=N&amp;hasButto...</td>\n",
       "      <td> HTTP/1.1</td>\n",
       "      <td> 200</td>\n",
       "      <td> 15638</td>\n",
       "    </tr>\n",
       "    <tr>\n",
       "      <th>2014-04-08 08:08:02</th>\n",
       "      <td> 210.124.124.22</td>\n",
       "      <td> 900</td>\n",
       "      <td> POST</td>\n",
       "      <td> /api/kbstar/StockHoga.action?hasTab=N&amp;hasButto...</td>\n",
       "      <td> HTTP/1.1</td>\n",
       "      <td> 200</td>\n",
       "      <td> 15638</td>\n",
       "    </tr>\n",
       "    <tr>\n",
       "      <th>2014-04-08 08:10:36</th>\n",
       "      <td> 210.124.124.22</td>\n",
       "      <td> 900</td>\n",
       "      <td>  GET</td>\n",
       "      <td>                              /js/stock/KSP_KSD.js</td>\n",
       "      <td> HTTP/1.1</td>\n",
       "      <td> 200</td>\n",
       "      <td> 81302</td>\n",
       "    </tr>\n",
       "    <tr>\n",
       "      <th>2014-04-08 08:10:36</th>\n",
       "      <td> 210.124.124.22</td>\n",
       "      <td> 900</td>\n",
       "      <td>  GET</td>\n",
       "      <td>                              /js/stock/OTBCODE.js</td>\n",
       "      <td> HTTP/1.1</td>\n",
       "      <td> 200</td>\n",
       "      <td>  2654</td>\n",
       "    </tr>\n",
       "    <tr>\n",
       "      <th>2014-04-08 08:10:36</th>\n",
       "      <td> 210.124.124.22</td>\n",
       "      <td> 900</td>\n",
       "      <td>  GET</td>\n",
       "      <td>                                 /common/empty.jsp</td>\n",
       "      <td> HTTP/1.1</td>\n",
       "      <td> 200</td>\n",
       "      <td>    68</td>\n",
       "    </tr>\n",
       "  </tbody>\n",
       "</table>\n",
       "<p>20 rows × 7 columns</p>\n",
       "</div>"
      ],
      "text/plain": [
       "                                 ip   tz method  \\\n",
       "time                                              \n",
       "2014-04-08 07:51:18  210.124.124.22  900    GET   \n",
       "2014-04-08 07:51:18  210.124.124.22  900    GET   \n",
       "2014-04-08 07:51:18  210.124.124.22  900    GET   \n",
       "2014-04-08 07:51:18  210.124.124.22  900    GET   \n",
       "2014-04-08 07:51:18  210.124.124.22  900   POST   \n",
       "2014-04-08 07:51:18  210.124.124.22  900   POST   \n",
       "2014-04-08 07:51:18  210.124.124.22  900   POST   \n",
       "2014-04-08 08:07:58  210.124.124.22  900    GET   \n",
       "2014-04-08 08:07:58  210.124.124.22  900   POST   \n",
       "2014-04-08 08:07:58  210.124.124.22  900   POST   \n",
       "2014-04-08 08:07:58  210.124.124.22  900   POST   \n",
       "2014-04-08 08:07:58  210.124.124.22  900   POST   \n",
       "2014-04-08 08:08:01  210.124.124.22  900    GET   \n",
       "2014-04-08 08:08:01  210.124.124.22  900    GET   \n",
       "2014-04-08 08:08:02  210.124.124.22  900   POST   \n",
       "2014-04-08 08:08:02  210.124.124.22  900   POST   \n",
       "2014-04-08 08:08:02  210.124.124.22  900   POST   \n",
       "2014-04-08 08:10:36  210.124.124.22  900    GET   \n",
       "2014-04-08 08:10:36  210.124.124.22  900    GET   \n",
       "2014-04-08 08:10:36  210.124.124.22  900    GET   \n",
       "\n",
       "                                                                   res  \\\n",
       "time                                                                     \n",
       "2014-04-08 07:51:18          /api/kbstar/nowPrice.action?shcode=122630   \n",
       "2014-04-08 07:51:18                                  /common/empty.jsp   \n",
       "2014-04-08 07:51:18                                  /common/empty.jsp   \n",
       "2014-04-08 07:51:18                                  /common/empty.jsp   \n",
       "2014-04-08 07:51:18                    /api/kbstar/hiddenUpname.action   \n",
       "2014-04-08 07:51:18  /api/kbstar/StockHoga.action?hasTab=N&hasButto...   \n",
       "2014-04-08 07:51:18  /api/kbstar/StockHoga.action?hasTab=N&hasButto...   \n",
       "2014-04-08 08:07:58                               /js/stock/OTBCODE.js   \n",
       "2014-04-08 08:07:58                    /api/kbstar/hiddenUpname.action   \n",
       "2014-04-08 08:07:58  /api/kbstar/StockHoga.action?hasTab=N&hasButto...   \n",
       "2014-04-08 08:07:58                    /api/kbstar/hiddenUpname.action   \n",
       "2014-04-08 08:07:58  /api/kbstar/StockHoga.action?hasTab=N&hasButto...   \n",
       "2014-04-08 08:08:01                /api/kbstar/nowPrice.action?shcode=   \n",
       "2014-04-08 08:08:01                               /js/stock/OTBCODE.js   \n",
       "2014-04-08 08:08:02                    /api/kbstar/hiddenUpname.action   \n",
       "2014-04-08 08:08:02  /api/kbstar/StockHoga.action?hasTab=N&hasButto...   \n",
       "2014-04-08 08:08:02  /api/kbstar/StockHoga.action?hasTab=N&hasButto...   \n",
       "2014-04-08 08:10:36                               /js/stock/KSP_KSD.js   \n",
       "2014-04-08 08:10:36                               /js/stock/OTBCODE.js   \n",
       "2014-04-08 08:10:36                                  /common/empty.jsp   \n",
       "\n",
       "                     protocol  status    len  \n",
       "time                                          \n",
       "2014-04-08 07:51:18  HTTP/1.1     200   6120  \n",
       "2014-04-08 07:51:18  HTTP/1.1     200     68  \n",
       "2014-04-08 07:51:18  HTTP/1.1     200     68  \n",
       "2014-04-08 07:51:18  HTTP/1.1     200     68  \n",
       "2014-04-08 07:51:18  HTTP/1.1     200    713  \n",
       "2014-04-08 07:51:18  HTTP/1.1     200  15645  \n",
       "2014-04-08 07:51:18  HTTP/1.1     200  15645  \n",
       "2014-04-08 08:07:58  HTTP/1.1     200   2654  \n",
       "2014-04-08 08:07:58  HTTP/1.1     200    724  \n",
       "2014-04-08 08:07:58  HTTP/1.1     200  15654  \n",
       "2014-04-08 08:07:58  HTTP/1.1     200    724  \n",
       "2014-04-08 08:07:58  HTTP/1.1     200  15654  \n",
       "2014-04-08 08:08:01  HTTP/1.1     200   6114  \n",
       "2014-04-08 08:08:01  HTTP/1.1     200   2654  \n",
       "2014-04-08 08:08:02  HTTP/1.1     200    722  \n",
       "2014-04-08 08:08:02  HTTP/1.1     200  15638  \n",
       "2014-04-08 08:08:02  HTTP/1.1     200  15638  \n",
       "2014-04-08 08:10:36  HTTP/1.1     200  81302  \n",
       "2014-04-08 08:10:36  HTTP/1.1     200   2654  \n",
       "2014-04-08 08:10:36  HTTP/1.1     200     68  \n",
       "\n",
       "[20 rows x 7 columns]"
      ]
     },
     "execution_count": 163,
     "metadata": {},
     "output_type": "execute_result"
    }
   ],
   "source": [
    "df[df['ip'] == '210.124.124.22'][0:20]"
   ]
  }
 ],
 "metadata": {
  "kernelspec": {
   "display_name": "Python 3",
   "language": "python",
   "name": "python3"
  },
  "language_info": {
   "codemirror_mode": {
    "name": "ipython",
    "version": 3
   },
   "file_extension": ".py",
   "mimetype": "text/x-python",
   "name": "python",
   "nbconvert_exporter": "python",
   "pygments_lexer": "ipython3",
   "version": "3.4.3"
  }
 },
 "nbformat": 4,
 "nbformat_minor": 0
}
